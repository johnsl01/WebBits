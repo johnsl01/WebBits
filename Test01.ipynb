{
  "nbformat": 4,
  "nbformat_minor": 0,
  "metadata": {
    "colab": {
      "name": "Test01.ipynb",
      "version": "0.3.2",
      "provenance": [],
      "collapsed_sections": []
    },
    "kernelspec": {
      "display_name": "Python 3",
      "name": "python3"
    }
  },
  "cells": [
    {
      "metadata": {
        "colab_type": "text",
        "id": "gZ3AOKfrSeOX"
      },
      "cell_type": "markdown",
      "source": [
        "# Test 1\n",
        "\n",
        "From https://www.codementor.io/dankhan/web-scrapping-using-python-and-beautifulsoup-o3hxadit4\n",
        "\n",
        "Does beautiful soup import work in colab ?\n",
        "\n"
      ]
    },
    {
      "metadata": {
        "id": "_shy3SmqSzJR",
        "colab_type": "code",
        "colab": {}
      },
      "cell_type": "code",
      "source": [
        "import requests\n",
        "from bs4 import BeautifulSoup"
      ],
      "execution_count": 0,
      "outputs": []
    },
    {
      "metadata": {
        "id": "J6A4IhBMWoQd",
        "colab_type": "text"
      },
      "cell_type": "markdown",
      "source": [
        "yes !"
      ]
    },
    {
      "metadata": {
        "id": "bI_DbfB4ShAh",
        "colab_type": "text"
      },
      "cell_type": "markdown",
      "source": [
        "#Test 2\n",
        "test 2\n"
      ]
    },
    {
      "metadata": {
        "id": "pllmcyodXD6W",
        "colab_type": "code",
        "colab": {}
      },
      "cell_type": "code",
      "source": [
        "url = \"https://en.wikipedia.org/wiki/List_of_Presidents_of_the_United_States\"\n",
        "page = requests.get(url)\n",
        "print(page.status_code)   # This should print 200\n",
        "# print(page.content)\n",
        "soup = BeautifulSoup(page.content, 'html.parser')\n",
        "# print(soup.prettify())\n",
        "tb = soup.find('table', class_='wikitable')\n",
        "for link in tb.find_all('big'):\n",
        "    name = link.find('a').text\n",
        "    print(name)"
      ],
      "execution_count": 0,
      "outputs": []
    }
  ]
}