{
  "nbformat": 4,
  "nbformat_minor": 0,
  "metadata": {
    "colab": {
      "name": "tensorslow.ipynb",
      "version": "0.3.2",
      "provenance": []
    },
    "language_info": {
      "codemirror_mode": {
        "name": "ipython",
        "version": 3
      },
      "file_extension": ".py",
      "mimetype": "text/x-python",
      "name": "python",
      "nbconvert_exporter": "python",
      "pygments_lexer": "ipython3",
      "version": "3.6.0"
    },
    "kernelspec": {
      "display_name": "Python 3",
      "language": "python",
      "name": "python3"
    }
  },
  "cells": [
    {
      "metadata": {
        "id": "K38CMbXIC4Nb",
        "colab_type": "text"
      },
      "cell_type": "markdown",
      "source": [
        "# Deep Learning From Scratch: Theory and Implementation\n",
        "\n",
        "In this text, we develop the mathematical and algorithmic underpinnings of deep neural networks from scratch and implement our own neural network library in Python, mimicking the <a href=\"http://www.tensorflow.org\">TensorFlow</a> API. I do not assume that you have any preknowledge about machine learning or neural networks. However, you should have some preknowledge of calculus, linear algebra, fundamental algorithms and probability theory on an undergraduate level. If you get stuck at some point, please leave a comment.\n",
        "\n",
        "By the end of this text, you will have a deep understanding of the math behind neural networks and how deep learning libraries work under the hood.\n",
        "\n",
        "I have tried to keep the code as simple and concise as possible, favoring conceptual clarity over efficiency. Since our API mimicks the TensorFlow API, you will know how to use TensorFlow once you have finished this text, and you will know how TensorFlow works under the hood conceptually (without all the overhead that comes with an omnipotent, maximally efficient machine learning API)."
      ]
    },
    {
      "metadata": {
        "id": "p6GZYM4KC4Ne",
        "colab_type": "text"
      },
      "cell_type": "markdown",
      "source": [
        "# Computational graphs\n",
        "We shall start by defining the concept of a computational graph, since neural networks are a special form thereof. A computational graph is a directed graph where the nodes correspond to **operations** or **variables**. Variables can feed their value into operations, and operations can feed their output into other operations. This way, every node in the graph defines a function of the variables.\n",
        "\n",
        "The values that are fed into the nodes and come out of the nodes are called <b>tensors</b>, which is just a fancy word for a multi-dimensional array. Hence, it subsumes scalars, vectors and matrices as well as tensors of a higher rank.\n",
        "\n",
        "Let's look at an example. The following computational graph computes the sum $z$ of two inputs $x$ and $y$. \n",
        "Here, $x$ and $y$ are input nodes to $z$ and $z$ is a consumer of $x$ and $y$. $z$ therefore defines a function $z : \\mathbb{R^2} \\rightarrow \\mathbb{R}$ where $z(x, y) = x + y$.\n",
        "\n",
        "<img src=\"https://github.com/johnsl01/WebBits/blob/master/Tensorflow/addition.png?456&raw=1\" style=\"height: 200px;\">\n",
        "\n",
        "The concept of a computational graph becomes more useful once the computations become more complex. For example, the following computational graph defines an affine transformation $z(A, x, b) = Ax + b$.\n",
        "\n",
        "<img src=\"https://github.com/johnsl01/WebBits/blob/master/Tensorflow/affine_transformation.png?raw=1\" style=\"height: 200px;\">\n",
        "\n",
        "## Operations\n",
        "\n",
        "Every operation is characterized by three things:\n",
        "- A `compute` function that computes the operation's output given values for the operation's inputs\n",
        "- A list of `input_nodes` which can be variables or other operations\n",
        "- A list of `consumers` that use the operation's output as their input\n",
        "\n",
        "Let's put this into code:"
      ]
    },
    {
      "metadata": {
        "id": "wTJJewARC4Nf",
        "colab_type": "code",
        "colab": {}
      },
      "cell_type": "code",
      "source": [
        "class Operation:\n",
        "    \"\"\"Represents a graph node that performs a computation.\n",
        "    \n",
        "    An `Operation` is a node in a `Graph` that takes zero or\n",
        "    more objects as input, and produces zero or more objects\n",
        "    as output.\n",
        "    \"\"\"\n",
        "    \n",
        "    def __init__(self, input_nodes = []):\n",
        "        \"\"\"Construct Operation\n",
        "        \"\"\"\n",
        "        self.input_nodes = input_nodes\n",
        "        \n",
        "        # Initialize list of consumers (i.e. nodes that receive this operation's output as input)\n",
        "        self.consumers = []\n",
        "        \n",
        "        # Append this operation to the list of consumers of all input nodes\n",
        "        for input_node in input_nodes:\n",
        "            input_node.consumers.append(self)\n",
        "        \n",
        "        # Append this operation to the list of operations in the currently active default graph\n",
        "        _default_graph.operations.append(self)\n",
        "  \n",
        "    def compute(self):\n",
        "        \"\"\"Computes the output of this operation.\n",
        "        \"\" Must be implemented by the particular operation.\n",
        "        \"\"\"\n",
        "        pass"
      ],
      "execution_count": 0,
      "outputs": []
    },
    {
      "metadata": {
        "id": "x_Y3z_R0C4Nj",
        "colab_type": "text"
      },
      "cell_type": "markdown",
      "source": [
        "### Some elementary operations\n",
        "\n",
        "Let's implement some elementary operations in order to become familiar with the `Operation` class (and because we will need them later).\n",
        "\n",
        "#### Addition"
      ]
    },
    {
      "metadata": {
        "id": "bMepnQFxC4Nk",
        "colab_type": "code",
        "colab": {}
      },
      "cell_type": "code",
      "source": [
        "class add(Operation):\n",
        "    \"\"\"Returns x + y element-wise.\n",
        "    \"\"\"\n",
        "    \n",
        "    def __init__(self, x, y):\n",
        "        \"\"\"Construct add\n",
        "        \n",
        "        Args:\n",
        "          x: First summand node\n",
        "          y: Second summand node\n",
        "        \"\"\"\n",
        "        super().__init__([x, y])\n",
        "\n",
        "    def compute(self, x_value, y_value):\n",
        "        \"\"\"Compute the output of the add operation\n",
        "        \n",
        "        Args:\n",
        "          x_value: First summand value\n",
        "          y_value: Second summand value\n",
        "        \"\"\"\n",
        "        self.inputs = [x_value, y_value]\n",
        "        return x_value + y_value"
      ],
      "execution_count": 0,
      "outputs": []
    },
    {
      "metadata": {
        "id": "QkPJSBBVC4Nm",
        "colab_type": "text"
      },
      "cell_type": "markdown",
      "source": [
        "#### Matrix multiplication"
      ]
    },
    {
      "metadata": {
        "id": "FEeFms-zC4Nn",
        "colab_type": "code",
        "colab": {}
      },
      "cell_type": "code",
      "source": [
        "class matmul(Operation):\n",
        "    \"\"\"Multiplies matrix a by matrix b, producing a * b.\n",
        "    \"\"\"\n",
        "    \n",
        "    def __init__(self, a, b):\n",
        "        \"\"\"Construct matmul\n",
        "        \n",
        "        Args:\n",
        "          a: First matrix\n",
        "          b: Second matrix\n",
        "        \"\"\"\n",
        "        super().__init__([a, b])\n",
        "    \n",
        "    def compute(self, a_value, b_value):\n",
        "        \"\"\"Compute the output of the matmul operation\n",
        "        \n",
        "        Args:\n",
        "          a_value: First matrix value\n",
        "          b_value: Second matrix value\n",
        "        \"\"\"\n",
        "        self.inputs = [a_value, b_value]\n",
        "        return a_value.dot(b_value)"
      ],
      "execution_count": 0,
      "outputs": []
    },
    {
      "metadata": {
        "id": "4QhGQ4xxC4Nq",
        "colab_type": "text"
      },
      "cell_type": "markdown",
      "source": [
        "## Placeholders\n",
        "\n",
        "Not all the nodes in a computational graph are operations. For example, in the affine transformation graph, $A$, $x$ and $b$ are not operations. Rather, they are inputs to the graph that have to be supplied with a value once we want to compute the output of the graph. To provide such values, we introduce **placeholders**."
      ]
    },
    {
      "metadata": {
        "id": "LwM8203SC4Nq",
        "colab_type": "code",
        "colab": {}
      },
      "cell_type": "code",
      "source": [
        "class placeholder:\n",
        "    \"\"\"Represents a placeholder node that has to be provided with a value\n",
        "       when computing the output of a computational graph\n",
        "    \"\"\"\n",
        "    def __init__(self):\n",
        "        \"\"\"Construct placeholder\n",
        "        \"\"\"\n",
        "        self.consumers = []\n",
        "        \n",
        "        # Append this placeholder to the list of placeholders in the currently active default graph\n",
        "        _default_graph.placeholders.append(self)"
      ],
      "execution_count": 0,
      "outputs": []
    },
    {
      "metadata": {
        "id": "Q3w7YUTNC4Nt",
        "colab_type": "text"
      },
      "cell_type": "markdown",
      "source": [
        "## Variables\n",
        "\n",
        "In the affine transformation graph, there is a qualitative difference between $x$ on the one hand and $A$ and $b$ on the other hand. While $x$ is an input to the operation, $A$ and $b$ are <b>parameters</b> of the operation, i.e. they are intrinsic to the graph. We will refer to such parameters as <b>Variables</b>."
      ]
    },
    {
      "metadata": {
        "id": "Ubl7LTfAC4Nu",
        "colab_type": "code",
        "colab": {}
      },
      "cell_type": "code",
      "source": [
        "class Variable:\n",
        "    \"\"\"Represents a variable (i.e. an intrinsic, changeable parameter of a computational graph).\n",
        "    \"\"\"\n",
        "    \n",
        "    def __init__(self, initial_value = None):\n",
        "        \"\"\"Construct Variable\n",
        "        \n",
        "        Args:\n",
        "          initial_value: The initial value of this variable\n",
        "        \"\"\"\n",
        "        self.value = initial_value\n",
        "        self.consumers = []\n",
        "        \n",
        "        # Append this variable to the list of variables in the currently active default graph\n",
        "        _default_graph.variables.append(self)"
      ],
      "execution_count": 0,
      "outputs": []
    },
    {
      "metadata": {
        "id": "-SXSypKJC4Nx",
        "colab_type": "text"
      },
      "cell_type": "markdown",
      "source": [
        "## The Graph class\n",
        "\n",
        "Finally, we'll need a class that bundles all the operations, placeholders and variables together. When creating a new graph, we can call its `as_default` method to set the `_default_graph` to this graph. This way, we can create operations, placeholders and variables without having to pass in a reference to the graph everytime."
      ]
    },
    {
      "metadata": {
        "id": "dA_FhTyQC4Nx",
        "colab_type": "code",
        "colab": {}
      },
      "cell_type": "code",
      "source": [
        "class Graph:\n",
        "    \"\"\"Represents a computational graph\n",
        "    \"\"\"\n",
        "    \n",
        "    def __init__(self):\n",
        "        \"\"\"Construct Graph\"\"\"\n",
        "        self.operations = []\n",
        "        self.placeholders = []\n",
        "        self.variables = []\n",
        "        \n",
        "    def as_default(self):\n",
        "        global _default_graph\n",
        "        _default_graph = self"
      ],
      "execution_count": 0,
      "outputs": []
    },
    {
      "metadata": {
        "id": "o4zLLU3PC4N0",
        "colab_type": "text"
      },
      "cell_type": "markdown",
      "source": [
        "## Example\n",
        "\n",
        "Let's now use the classes we have built to create a computational graph for the following affine transformation:\n",
        "\n",
        "$$\n",
        "z = \\begin{pmatrix}\n",
        "1 & 0 \\\\\n",
        "0 & -1\n",
        "\\end{pmatrix}\n",
        "\\cdot\n",
        "x\n",
        "+\n",
        "\\begin{pmatrix}\n",
        "1 \\\\\n",
        "1\n",
        "\\end{pmatrix}\n",
        "$$"
      ]
    },
    {
      "metadata": {
        "id": "yVjYxDAJC4N2",
        "colab_type": "code",
        "colab": {}
      },
      "cell_type": "code",
      "source": [
        "# Create a new graph\n",
        "Graph().as_default()\n",
        "\n",
        "# Create variables\n",
        "A = Variable([[1, 0], [0, -1]])\n",
        "b = Variable([1, 1])\n",
        "\n",
        "# Create placeholder\n",
        "x = placeholder()\n",
        "\n",
        "# Create hidden node y\n",
        "y = matmul(A, x)\n",
        "\n",
        "# Create output node z\n",
        "z = add(y, b)"
      ],
      "execution_count": 0,
      "outputs": []
    },
    {
      "metadata": {
        "id": "iiW64b54C4N6",
        "colab_type": "text"
      },
      "cell_type": "markdown",
      "source": [
        "## Computing the output of an operation\n",
        "Now that we are confident creating computational graphs, we can start to think about how to compute the output of an operation.\n",
        "\n",
        "Let's create a Session class that encapsulates an execution of an operation. We would like to be able to create a session instance and call a `run` method on this instance, passing the operation that we want to compute and a dictionary containing values for the placeholders:\n",
        "\n",
        "    session = Session()\n",
        "    output = session.run(z, {\n",
        "        x: [1, 2]\n",
        "    })\n",
        "\n",
        "This should compute the following value:\n",
        "\n",
        "$$\n",
        "z = \\begin{pmatrix}\n",
        "1 & 0 \\\\\n",
        "0 & -1\n",
        "\\end{pmatrix}\n",
        "\\cdot\n",
        "\\begin{pmatrix}\n",
        "1 \\\\\n",
        "2\n",
        "\\end{pmatrix}\n",
        "+\n",
        "\\begin{pmatrix}\n",
        "1 \\\\\n",
        "1\n",
        "\\end{pmatrix}\n",
        "=\n",
        "\\begin{pmatrix}\n",
        "2 \\\\\n",
        "-1\n",
        "\\end{pmatrix}\n",
        "$$\n",
        "\n",
        "In order to compute the function represented by an operation, we need to apply the computations in the right order. For example, we cannot compute $z$ before we have computed $y$ as an intermediate result. Therefore, we have to make sure that the operations are carried out in the right order, such that the values of every node that is an input to an operation $o$ has been computed before $o$ is computed. This can be achieved via <a href=\"https://en.wikipedia.org/wiki/Tree_traversal#Post-order\" target=\"new\">post-order traversal</a>.\n"
      ]
    },
    {
      "metadata": {
        "id": "qLcrAp0PC4N9",
        "colab_type": "code",
        "colab": {}
      },
      "cell_type": "code",
      "source": [
        "import numpy as np\n",
        "\n",
        "class Session:\n",
        "    \"\"\"Represents a particular execution of a computational graph.\n",
        "    \"\"\"\n",
        "    \n",
        "    def run(self, operation, feed_dict = {}):\n",
        "        \"\"\"Computes the output of an operation\n",
        "        \n",
        "        Args:\n",
        "          operation: The operation whose output we'd like to compute.\n",
        "          feed_dict: A dictionary that maps placeholders to values for this session\n",
        "        \"\"\"\n",
        "        \n",
        "        # Perform a post-order traversal of the graph to bring the nodes into the right order\n",
        "        nodes_postorder = traverse_postorder(operation)\n",
        "        \n",
        "        # Iterate all nodes to determine their value\n",
        "        for node in nodes_postorder:\n",
        "\n",
        "            if type(node) == placeholder:\n",
        "                # Set the node value to the placeholder value from feed_dict\n",
        "                node.output = feed_dict[node]\n",
        "            elif type(node) == Variable:\n",
        "                # Set the node value to the variable's value attribute\n",
        "                node.output = node.value\n",
        "            else: # Operation\n",
        "                # Get the input values for this operation from node_values\n",
        "                node.inputs = [input_node.output for input_node in node.input_nodes]\n",
        "\n",
        "                # Compute the output of this operation\n",
        "                node.output = node.compute(*node.inputs)\n",
        "                \n",
        "            # Convert lists to numpy arrays\n",
        "            if type(node.output) == list:\n",
        "                node.output = np.array(node.output)\n",
        "        \n",
        "        # Return the requested node value\n",
        "        return operation.output\n",
        "\n",
        "\n",
        "def traverse_postorder(operation):\n",
        "    \"\"\"Performs a post-order traversal, returning a list of nodes\n",
        "    in the order in which they have to be computed\n",
        "    \n",
        "    Args:\n",
        "       operation: The operation to start traversal at\n",
        "    \"\"\"\n",
        "    \n",
        "    nodes_postorder = []\n",
        "    def recurse(node):\n",
        "        if isinstance(node, Operation):\n",
        "            for input_node in node.input_nodes:\n",
        "                recurse(input_node)\n",
        "        nodes_postorder.append(node)\n",
        "\n",
        "    recurse(operation)\n",
        "    return nodes_postorder"
      ],
      "execution_count": 0,
      "outputs": []
    },
    {
      "metadata": {
        "id": "IQycsOFKC4OB",
        "colab_type": "text"
      },
      "cell_type": "markdown",
      "source": [
        "Let's test our class on the example from above:"
      ]
    },
    {
      "metadata": {
        "id": "v47A5mZSC4OC",
        "colab_type": "code",
        "colab": {
          "base_uri": "https://localhost:8080/",
          "height": 34
        },
        "outputId": "ba1bced8-a439-4ccd-b298-485cfdda2ba3"
      },
      "cell_type": "code",
      "source": [
        "session = Session()\n",
        "output = session.run(z, {\n",
        "    x: [1, 2]\n",
        "})\n",
        "print(output)"
      ],
      "execution_count": 364,
      "outputs": [
        {
          "output_type": "stream",
          "text": [
            "[ 2 -1]\n"
          ],
          "name": "stdout"
        }
      ]
    },
    {
      "metadata": {
        "id": "O4qFFfy5C4OH",
        "colab_type": "text"
      },
      "cell_type": "markdown",
      "source": [
        "Looks good."
      ]
    },
    {
      "metadata": {
        "id": "Z4msmM-dC4OI",
        "colab_type": "text"
      },
      "cell_type": "markdown",
      "source": [
        "# Perceptrons\n",
        "\n",
        "## A motivating example\n",
        "\n",
        "Perceptrons are a miniature form of neural network and a basic building block of more complex architectures. Before going into the details, let's motivate them by an example. Assume that we are given a dataset consisting of 100 points in the plane. Half of the points are red and half of the points are blue."
      ]
    },
    {
      "metadata": {
        "id": "Hy6AKIkrC4OI",
        "colab_type": "code",
        "colab": {
          "base_uri": "https://localhost:8080/",
          "height": 269
        },
        "outputId": "8947e770-fea2-48f1-e4d6-a1e4b2d4f504"
      },
      "cell_type": "code",
      "source": [
        "import matplotlib.pyplot as plt\n",
        "\n",
        "# Create red points centered at (-2, -2)\n",
        "red_points = np.random.randn(50, 2) - 2*np.ones((50, 2))\n",
        "\n",
        "# Create blue points centered at (2, 2)\n",
        "blue_points = np.random.randn(50, 2) + 2*np.ones((50, 2))\n",
        "\n",
        "# Plot them\n",
        "plt.scatter(red_points[:,0], red_points[:,1], color='red')\n",
        "plt.scatter(blue_points[:,0], blue_points[:,1], color='blue')\n",
        "plt.show()"
      ],
      "execution_count": 365,
      "outputs": [
        {
          "output_type": "display_data",
          "data": {
            "image/png": "[encoded data removed]",
            "text/plain": [
              "<Figure size 432x288 with 1 Axes>"
            ]
          },
          "metadata": {
            "tags": []
          }
        }
      ]
    },
    {
      "metadata": {
        "id": "3euWvAkiC4ON",
        "colab_type": "text"
      },
      "cell_type": "markdown",
      "source": [
        "As we can see, the red points are centered at $(-2, -2)$ and the blue points are centered at $(2, 2)$. Now, having seen this data, we can ask ourselves whether there is a way to determine if a point should be red or blue. For example, if someone asks us what the color of the point $(3, 2)$ should be, we'd best respond with blue. Even though this point was not part of the data we have seen, we can infer this since it is located in the blue region of the space.\n",
        "\n",
        "But what is the general rule to determine if a point is more likely to be blue than red? Apparently, we can draw a line $y = -x$ that nicely separates the space into a red region and a blue region:"
      ]
    },
    {
      "metadata": {
        "scrolled": true,
        "id": "LXNjxI-vC4ON",
        "colab_type": "code",
        "colab": {
          "base_uri": "https://localhost:8080/",
          "height": 269
        },
        "outputId": "d2568406-3a8f-4e7f-f707-19b294314671"
      },
      "cell_type": "code",
      "source": [
        "# Plot a line y = -x\n",
        "x_axis = np.linspace(-4, 4, 100)\n",
        "y_axis = -x_axis\n",
        "plt.plot(x_axis, y_axis)\n",
        "\n",
        "# Add the red and blue points\n",
        "plt.scatter(red_points[:,0], red_points[:,1], color='red')\n",
        "plt.scatter(blue_points[:,0], blue_points[:,1], color='blue')\n",
        "plt.show()"
      ],
      "execution_count": 366,
      "outputs": [
        {
          "output_type": "display_data",
          "data": {
            "image/png": "[encoded data removed]",
            "text/plain": [
              "<Figure size 432x288 with 1 Axes>"
            ]
          },
          "metadata": {
            "tags": []
          }
        }
      ]
    },
    {
      "metadata": {
        "id": "-qcFL48sC4OQ",
        "colab_type": "text"
      },
      "cell_type": "markdown",
      "source": [
        "We can implicitly represent this line using a <b>weight vector</b> $w$ and a <b>bias</b> $b$. The line then corresponds to the set of points $x$ where\n",
        "\n",
        "$$w^T x + b = 0.$$\n",
        "\n",
        "In the case above, we have $w = (1, 1)^T$ and $b = 0$. Now, in order to test whether the point is blue or red, we just have to check whether it is above or below the line. This can be achieved by checking the sign of $w^T x + b$. If it is positive, then $x$ is above the line. If it is negative, then $x$ is below the line. Let's perform this test for our example point $(3, 2)^T$:\n",
        "\n",
        "$$\n",
        "\\begin{pmatrix}\n",
        "1 & 1\n",
        "\\end{pmatrix}\n",
        "\\cdot \\begin{pmatrix}\n",
        "3 \\\\\n",
        "2\n",
        "\\end{pmatrix} = 5\n",
        "$$\n",
        "\n",
        "Since 5 > 0, we know that the point is above the line and, therefore, should be classified as blue.\n",
        "\n",
        "## Perceptron definition\n",
        "\n",
        "In general terms, a <b>classifier</b> is a function $\\hat{c} : \\mathbb{R}^d \\rightarrow \\{1, 2, ..., C\\}$ that maps a point onto one of $C$ classes. A <b>binary classifier</b> is a classifier where $C = 2$, i.e. we have two classes. A <b>perceptron</b> with weight $w \\in \\mathbb{R}^d$ and bias $b \\in \\mathbb{R}^d$ is a binary classifier where\n",
        "\n",
        "$$\n",
        "  \\hat{c}(x) = \n",
        "  \\begin{cases}\n",
        "    1, & \\text{if } w^T x + b \\geq 0 \\\\\n",
        "    2, & \\text{if } w^T x + b < 0\n",
        "  \\end{cases}\n",
        "$$\n",
        "\n",
        "$\\hat{c}$ partitions $\\mathbb{R}^d$ into two half-spaces, each corresponding to one of the two classes. In the 2-dimensional example above, the partitioning is along a line. In general, the partitioning is along a $d-1$ dimensional hyperplane."
      ]
    },
    {
      "metadata": {
        "id": "yxGHFFixC4OR",
        "colab_type": "text"
      },
      "cell_type": "markdown",
      "source": [
        "## From classes to probabilities\n",
        "\n",
        "Depending on the application, we may be interested not only in determining the most likely class of a point, but also the probability with which it belongs to that class. Note that the higher the value of $w^T x + b$, the higher is its distance to the separating line and, therefore, the higher is our confidence that it belongs to the blue class. But this value can be arbitrarily high. In order to turn this value into a probability, we need to \"squash\" the values to lie between 0 and 1. One way to do this is by applying the <b>sigmoid</b> function $\\sigma$:\n",
        "\n",
        "$$p(\\hat{c}(x) = 1 \\mid x) = \\sigma(w^T x + b)$$ where $$\\sigma(a) = \\frac{1}{1 + e^{-a}}$$\n",
        "\n",
        "Let's take a look at what the sigmoid function looks like:"
      ]
    },
    {
      "metadata": {
        "id": "9pNPxoUsC4OS",
        "colab_type": "code",
        "colab": {
          "base_uri": "https://localhost:8080/",
          "height": 269
        },
        "outputId": "c20dda9e-c33b-4c30-9f80-94f32e9c47f1"
      },
      "cell_type": "code",
      "source": [
        "# Create an interval from -5 to 5 in steps of 0.01\n",
        "a = np.arange(-5, 5, 0.01)\n",
        "\n",
        "# Compute corresponding sigmoid function values\n",
        "s = 1 / (1 + np.exp(-a))\n",
        "\n",
        "# Plot them\n",
        "plt.plot(a, s)\n",
        "plt.grid(True)\n",
        "plt.show()"
      ],
      "execution_count": 367,
      "outputs": [
        {
          "output_type": "display_data",
          "data": {
            "image/png": "[encoded data removed]",
            "text/plain": [
              "<Figure size 432x288 with 1 Axes>"
            ]
          },
          "metadata": {
            "tags": []
          }
        }
      ]
    },
    {
      "metadata": {
        "id": "Uktc0DFrC4OV",
        "colab_type": "text"
      },
      "cell_type": "markdown",
      "source": [
        "As we can see, the sigmoid function assigns a probability of 0.5 to values where $w^T x + b = 0$ (i.e. points on the line) and asymptotes towards 1 the higher the value of $w^T x + b$ becomes, and towards 0 the lower it becomes, which is exactly what we want.\n",
        "\n",
        "Let's now define the sigmoid function as an operation, since we'll need it later:"
      ]
    },
    {
      "metadata": {
        "id": "syr0bE-4C4OV",
        "colab_type": "code",
        "colab": {}
      },
      "cell_type": "code",
      "source": [
        "class sigmoid(Operation):\n",
        "    \"\"\"Returns the sigmoid of x element-wise.\n",
        "    \"\"\"\n",
        "    \n",
        "    def __init__(self, a):\n",
        "        \"\"\"Construct sigmoid\n",
        "        \n",
        "        Args:\n",
        "          a: Input node\n",
        "        \"\"\"\n",
        "        super().__init__([a])\n",
        "\n",
        "    def compute(self, a_value):\n",
        "        \"\"\"Compute the output of the sigmoid operation\n",
        "        \n",
        "        Args:\n",
        "          a_value: Input value\n",
        "        \"\"\"\n",
        "        return 1 / (1 + np.exp(-a_value))"
      ],
      "execution_count": 0,
      "outputs": []
    },
    {
      "metadata": {
        "id": "dRh7s_GpC4Oa",
        "colab_type": "text"
      },
      "cell_type": "markdown",
      "source": [
        "The entire computational graph of the perceptron now looks as follows:\n",
        "\n",
        "<img src='https://github.com/johnsl01/WebBits/blob/master/Tensorflow/perceptron.png?1&raw=1' style='height: 150px;'>"
      ]
    },
    {
      "metadata": {
        "id": "zbQa5vfrC4Oa",
        "colab_type": "text"
      },
      "cell_type": "markdown",
      "source": [
        "### Example\n",
        "\n",
        "Using what we have learned, we can now build a perceptron for the red/blue example in Python."
      ]
    },
    {
      "metadata": {
        "id": "pn-wl8nhC4Oc",
        "colab_type": "code",
        "colab": {}
      },
      "cell_type": "code",
      "source": [
        "# Create a new graph\n",
        "Graph().as_default()\n",
        "\n",
        "x = placeholder()\n",
        "w = Variable([1, 1])\n",
        "b = Variable(0)\n",
        "p = sigmoid( add(matmul(w, x), b) )"
      ],
      "execution_count": 0,
      "outputs": []
    },
    {
      "metadata": {
        "id": "Ph4ZOQITC4Of",
        "colab_type": "text"
      },
      "cell_type": "markdown",
      "source": [
        "Let's use this perceptron to compute the probability that $(3, 2)^T$ is a blue point:"
      ]
    },
    {
      "metadata": {
        "id": "jYqO_10NC4Oh",
        "colab_type": "code",
        "colab": {
          "base_uri": "https://localhost:8080/",
          "height": 34
        },
        "outputId": "b890567d-d536-48e4-da8a-c85c150f5fb7"
      },
      "cell_type": "code",
      "source": [
        "session = Session()\n",
        "print(session.run(p, {\n",
        "    x: [3, 2]\n",
        "}))"
      ],
      "execution_count": 370,
      "outputs": [
        {
          "output_type": "stream",
          "text": [
            "0.9933071490757153\n"
          ],
          "name": "stdout"
        }
      ]
    },
    {
      "metadata": {
        "id": "Bvw_j5Q9C4Ok",
        "colab_type": "text"
      },
      "cell_type": "markdown",
      "source": [
        "## Multi-class perceptron\n",
        "\n",
        "So far, we have used the perceptron as a binary classifier, telling us the probability $p$ that a point $x$ belongs to one of two classes. The probability of $x$ belonging to the respective other class is then given by $1-p$. Generally, however, we have more than two classes. For example, when classifying an image, there may be numerous output classes (dog, chair, human, house, ...). We can extend the perceptron to compute multiple output probabilities.\n",
        "\n",
        "Let $C$ denote the number of output classes. Instead of a weight vector $w$, we introduce a weight matrix $W \\in \\mathbb{R}^{d \\times C}$. Each column of the weight matrix contains the weights of a separate linear classifier - one for each class. Instead of the dot product $w^T x$, we compute $x \\, W$, which returns a vector in $\\mathbb{R}^C$, each of whose entries can be seen as the output of the dot product for a different column of the weight matrix. To this, we add a bias vector $b \\in \\mathbb{R}^m$, containing a distinct bias for each output class. This then yields a vector in $\\mathbb{R}^C$ containing the probabilities for each of the $C$ classes.\n",
        "\n",
        "While this procedure may seem complicated, the matrix multiplication actually just performs multiple linear classifications in parallel, one for each of the $C$ classes - each one with its own separating line, given by a weight vector (one column of $W$) and a bias (one entry of $b$).\n",
        "\n",
        "<img src='https://github.com/johnsl01/WebBits/blob/master/Tensorflow/perceptron2.png?1&raw=1' style='height: 150px;'>\n",
        "\n",
        "### Softmax\n",
        "\n",
        "While the original perceptron yielded a single scalar value that we squashed through a sigmoid to obtain a probability between 0 and 1, the multi-class perceptron yields a vector $a \\in \\mathbb{R}^m$. The higher the i-th entry of $a$, the higher is our confidence that the input point belongs to the i-th class. We would like to turn $a$ into a vector of probabilities, such that the probability for every class lies between 0 and 1 and the probabilities for all classes sum up to 1.\n",
        "\n",
        "A common way to do this is to use the <b>softmax function</b>, which is a generalization of the sigmoid to multiple output classes:\n",
        "\n",
        "$$\n",
        "\\sigma(a)_i = \\frac{e^{a_i}}{\\sum_{j = 1}^C e^{a_j}}\n",
        "$$"
      ]
    },
    {
      "metadata": {
        "id": "O4PV6-k5C4Ok",
        "colab_type": "code",
        "colab": {}
      },
      "cell_type": "code",
      "source": [
        "class softmax(Operation):\n",
        "    \"\"\"Returns the softmax of a.\n",
        "    \"\"\"\n",
        "    \n",
        "    def __init__(self, a):\n",
        "        \"\"\"Construct softmax\n",
        "        \n",
        "        Args:\n",
        "          a: Input node\n",
        "        \"\"\"\n",
        "        super().__init__([a])\n",
        "\n",
        "    def compute(self, a_value):\n",
        "        \"\"\"Compute the output of the softmax operation\n",
        "        \n",
        "        Args:\n",
        "          a_value: Input value\n",
        "        \"\"\"\n",
        "        return np.exp(a_value) / np.sum(np.exp(a_value), axis = 1)[:,None]"
      ],
      "execution_count": 0,
      "outputs": []
    },
    {
      "metadata": {
        "id": "7tenx56BC4Om",
        "colab_type": "text"
      },
      "cell_type": "markdown",
      "source": [
        "### Batch computation\n",
        "\n",
        "The matrix form allows us to feed in more than one point at a time. That is, instead of a single point $x$, we could feed in a matrix $X \\in \\mathbb{R}^{N \\times d}$ containing one point per row (i.e. $N$ rows of $d$-dimensional points). We refer to such a matrix as a <b>batch</b>. Instead of $xW$, we compute $XW$. This returns an $N \\times C$ matrix, each of whose rows contains $xW$ for one point $x$. To each row, we add a bias vector $b$, which is now an $1 \\times m$ row vector. The whole procedure thus computes a function $f : \\mathbb{R}^{N \\times d} \\rightarrow \\mathbb{R}^{m}$ where $f(X) = \\sigma(XW + b)$. The computational graph looks as follows:\n",
        "\n",
        "<img src='https://github.com/johnsl01/WebBits/blob/master/Tensorflow/perceptron3.png?2&raw=1' style='height: 150px;'>\n",
        "\n",
        "### Example\n",
        "\n",
        "Let's now generalize our red/blue perceptron to allow for batch computation and multiple output classes."
      ]
    },
    {
      "metadata": {
        "id": "ZdEYzCHuC4On",
        "colab_type": "code",
        "colab": {}
      },
      "cell_type": "code",
      "source": [
        "# Create a new graph\n",
        "Graph().as_default()\n",
        "\n",
        "X = placeholder()\n",
        "\n",
        "# Create a weight matrix for 2 output classes:\n",
        "# One with a weight vector (1, 1) for blue and one with a weight vector (-1, -1) for red\n",
        "W = Variable([\n",
        "    [1, -1],\n",
        "    [1, -1]\n",
        "])\n",
        "b = Variable([0, 0])\n",
        "p = softmax( add(matmul(X, W), b) )"
      ],
      "execution_count": 0,
      "outputs": []
    },
    {
      "metadata": {
        "id": "aQz5V3nDC4Oq",
        "colab_type": "code",
        "colab": {
          "base_uri": "https://localhost:8080/",
          "height": 187
        },
        "outputId": "fb8ca099-5892-4d4f-e0bf-050b64cc3a2b"
      },
      "cell_type": "code",
      "source": [
        "# Create a session and run the perceptron on our blue/red points\n",
        "session = Session()\n",
        "output_probabilities = session.run(p, {\n",
        "    X: np.concatenate((blue_points, red_points))\n",
        "})\n",
        "\n",
        "# Print the first 10 lines, corresponding to the probabilities of the first 10 points\n",
        "print(output_probabilities[:10])"
      ],
      "execution_count": 373,
      "outputs": [
        {
          "output_type": "stream",
          "text": [
            "[[9.99827452e-01 1.72548194e-04]\n",
            " [9.99920908e-01 7.90916844e-05]\n",
            " [9.99272227e-01 7.27773115e-04]\n",
            " [9.99993375e-01 6.62525933e-06]\n",
            " [9.86747455e-01 1.32525447e-02]\n",
            " [9.99800489e-01 1.99510662e-04]\n",
            " [9.99995529e-01 4.47086889e-06]\n",
            " [9.99998204e-01 1.79639736e-06]\n",
            " [9.99043721e-01 9.56279495e-04]\n",
            " [9.95334606e-01 4.66539374e-03]]\n"
          ],
          "name": "stdout"
        }
      ]
    },
    {
      "metadata": {
        "id": "rDCBUTZwC4Os",
        "colab_type": "text"
      },
      "cell_type": "markdown",
      "source": [
        "Since the first 10 points in our data are all blue, the perceptron outputs high probabilities for blue (left column) and low probabilities for red (right column), as expected."
      ]
    },
    {
      "metadata": {
        "id": "o5_m27bLC4Ot",
        "colab_type": "text"
      },
      "cell_type": "markdown",
      "source": [
        "# Training criterion\n",
        "\n",
        "Great, so now we are able to classify points using a linear classifier and compute the probability that the point belongs to a certain class, provided that we know the appropriate parameters for the weight matrix $W$ and bias $b$. The natural question that arises is how to come up with appropriate values for these. In the red/blue example, we just looked at the training points and guessed a line that nicely separated the training points. But generally we do not want to specify the separating line by hand. Rather, we just want to supply the training points to the computer and let it come up with a good separating line on its own. But how do we judge whether a separating line is good or bad?\n",
        "\n",
        "## The misclassification rate\n",
        "\n",
        "Ideally, we want to find a line that makes as few errors as possible. For every point $x$ and class $c(x)$ drawn from the true but unknown data-generating distribution $p_\\text{data}(x, c(x))$, we want to minimize the probability that our perceptron classifies it incorrectly - the <b>probability of misclassification</b>:\n",
        "\n",
        "$$\\underset{W, b}{\\operatorname{argmin}} p(\\hat{c}(x) \\neq c(x) \\mid x, c(x) \\, \\tilde{} \\, p_\\text{data} )$$\n",
        "\n",
        "Generally, we do not know the data-generating distribution $p_\\text{data}$, so it is impossible to compute the exact probability of misclassification. Instead, we are given a finite list of $N$ <b>training points</b> consisting of the values of $x$ with their corresponding classes. In the following, we represent the list of training points as a matrix $X \\in \\mathbb{R}^{N \\times d}$ where each row corresponds to one training point and each column to one dimension of the input space. Moreover, we represent the true classes as a matrix $c \\in \\mathbb{R}^{N \\times C}$ where $c_{i, j} = 1$ if the $i$-th training sample has class $j$. Similarly, we represent the predicted classes as a matrix $\\hat{c} \\in \\mathbb{R}^{N \\times C}$ where $\\hat{c}_{i, j} = 1$ if the $i$-th training sample has a predicted class $j$. Finally, we represent the output probabilities of our model as a matrix $p \\in \\mathbb{R}^{N \\times C}$ where $p_{i, j}$ contains the probability that the $i$-th training sample belongs to the j-th class.\n",
        "\n",
        "We could use the training data to find a classifier that minimizes the <b>misclassification rate</b> on the training samples:\n",
        "\n",
        "$$\n",
        "\\underset{W, b}{\\operatorname{argmin}} \\frac{1}{N} \\sum_{i = 1}^N I(\\hat{c}_i \\neq c_i)\n",
        "$$\n",
        "\n",
        "However, it turns out that finding a linear classifier that minimizes the misclassification rate is an intractable problem, i.e. its computational complexity is exponential in the number of input dimensions, rendering it unpractical. Moreover, even if we have found a classifier that minimizes the misclassification rate on the training samples, it might be possible to make the classifier more robust to unseen samples by pushing the classes further apart, even if this does not reduce the misclassification rate on the training samples."
      ]
    },
    {
      "metadata": {
        "id": "yy0GNCr_C4Ou",
        "colab_type": "text"
      },
      "cell_type": "markdown",
      "source": [
        "## Maximum likelihood estimation\n",
        "\n",
        "An alternative is to use <a href=\"https://en.wikipedia.org/wiki/Maximum_likelihood_estimation\">maximum likelihood estimation</a>, where we try to find the parameters that maximize the probability of the training data:\n",
        "\n",
        "<div class=\"left_equation\" style=\"margin-top: 20px; padding-left: 50px;\">\n",
        "\\begin{align}\n",
        " \\underset{W, b}{\\operatorname{argmax}} p(\\hat{c} = c) \\\\\n",
        "\\end{align}\n",
        "\n",
        "\\begin{align}\n",
        "= \\underset{W, b}{\\operatorname{argmax}} \\prod_{i=1}^N p(\\hat{c}_i = c_i) \\\\\n",
        "\\end{align}\n",
        "\n",
        "\\begin{align}\n",
        "= \\underset{W, b}{\\operatorname{argmax}} \\prod_{i=1}^N \\prod_{j=1}^C  p_{i, j}^{I(c_i = j)} \\\\\n",
        "\\end{align}\n",
        "\n",
        "\\begin{align}\n",
        "= \\underset{W, b}{\\operatorname{argmax}} \\prod_{i=1}^N \\prod_{j=1}^C  p_{i, j}^{c_{i, j}} \\\\\n",
        "\\end{align}\n",
        "\n",
        "\\begin{align}\n",
        "= \\underset{W, b}{\\operatorname{argmax}} log \\prod_{i=1}^N \\prod_{j=1}^C  p_{i, j}^{c_{i, j}} \\\\\n",
        "\\end{align}\n",
        "\n",
        "\\begin{align}\n",
        "= \\underset{W, b}{\\operatorname{argmax}} \\sum_{i=1}^N \\sum_{j=1}^C c_{i, j} \\cdot log \\, p_{i, j} \\\\\n",
        "\\end{align}\n",
        "\n",
        "\\begin{align}\n",
        "= \\underset{W, b}{\\operatorname{argmin}} - \\sum_{i=1}^N \\sum_{j=1}^C c_{i, j} \\cdot log \\, p_{i, j} \\\\\n",
        "\\end{align}\n",
        "\n",
        "\n",
        "\\begin{align}\n",
        "= \\underset{W, b}{\\operatorname{argmin}} J\n",
        "\\end{align}\n",
        "\n",
        "</div>\n",
        "\n",
        "We refer to $J = - \\sum_{i=1}^N \\sum_{j=1}^C c_{i, j} \\cdot log \\, p_{i, j}$ as the <b>cross-entropy loss</b>. We want to minimize $J$.\n",
        "\n",
        "We can view $J$ as yet another operation in our computational graph that takes the input data $X$, the true classes $c$ and our predicted probabilities $p$ (which are the output of the $\\sigma$ operation) as input and computes a real number designating the loss:\n",
        "\n",
        "<img src=\"https://github.com/johnsl01/WebBits/blob/master/Tensorflow/loss_graph.png?raw=1\" style=\"height: 200px;\">"
      ]
    },
    {
      "metadata": {
        "id": "p0v-dO66C4Ou",
        "colab_type": "text"
      },
      "cell_type": "markdown",
      "source": [
        "## Building an operation that computes $J$\n",
        "\n",
        "We can build up $J$ from various more primitive operations. Using the element-wise matrix multiplication $\\odot$, we can rewrite $J$ as follows:\n",
        "\n",
        "$$\n",
        "- \\sum_{i=1}^N \\sum_{j=1}^C (c \\odot log \\, p)_{i, j}\n",
        "$$\n",
        "\n",
        "Going from the inside out, we can see that we need to implement the following operations:\n",
        "- $log$: The element-wise logarithm of a matrix or vector\n",
        "- $\\odot$: The element-wise product of two matrices\n",
        "- $\\sum_{j=1}^C$: Sum over the columns of a matrix\n",
        "- $\\sum_{i=1}^N$: Sum over the rows of a matrix\n",
        "- $-$: Taking the negative\n",
        "\n",
        "Let's implement these operations.\n",
        "\n",
        "### log\n",
        "This computes the element-wise logarithm of a tensor."
      ]
    },
    {
      "metadata": {
        "id": "lZe4NM7oC4Ov",
        "colab_type": "code",
        "colab": {}
      },
      "cell_type": "code",
      "source": [
        "class log(Operation):\n",
        "    \"\"\"Computes the natural logarithm of x element-wise.\n",
        "    \"\"\"\n",
        "    \n",
        "    def __init__(self, x):\n",
        "        \"\"\"Construct log\n",
        "        \n",
        "        Args:\n",
        "          x: Input node\n",
        "        \"\"\"\n",
        "        super().__init__([x])\n",
        "\n",
        "    def compute(self, x_value):\n",
        "        \"\"\"Compute the output of the log operation\n",
        "        \n",
        "        Args:\n",
        "          x_value: Input value\n",
        "        \"\"\"\n",
        "        return np.log(x_value)"
      ],
      "execution_count": 0,
      "outputs": []
    },
    {
      "metadata": {
        "id": "9uRyfoBRC4Ox",
        "colab_type": "text"
      },
      "cell_type": "markdown",
      "source": [
        "### multiply / $\\odot$\n",
        "This computes the element-wise product of two tensors of the same shape."
      ]
    },
    {
      "metadata": {
        "id": "w4dpJf-FC4Oy",
        "colab_type": "code",
        "colab": {}
      },
      "cell_type": "code",
      "source": [
        "class multiply(Operation):\n",
        "    \"\"\"Returns x * y element-wise.\n",
        "    \"\"\"\n",
        "    \n",
        "    def __init__(self, x, y):\n",
        "        \"\"\"Construct multiply\n",
        "        \n",
        "        Args:\n",
        "          x: First multiplicand node\n",
        "          y: Second multiplicand node\n",
        "        \"\"\"\n",
        "        super().__init__([x, y])\n",
        "\n",
        "    def compute(self, x_value, y_value):\n",
        "        \"\"\"Compute the output of the multiply operation\n",
        "        \n",
        "        Args:\n",
        "          x_value: First multiplicand value\n",
        "          y_value: Second multiplicand value\n",
        "        \"\"\"\n",
        "        return x_value * y_value"
      ],
      "execution_count": 0,
      "outputs": []
    },
    {
      "metadata": {
        "id": "XieImGtcC4O0",
        "colab_type": "text"
      },
      "cell_type": "markdown",
      "source": [
        "### reduce_sum\n",
        "\n",
        "We'll implement the summation over rows, columns, etc. in a single operation where we specify an `axis`. This way, we can use the same method for all types of summations. For example, `axis = 0` sums over the rows, `axis = 1` sums over the columns, etc. This is exactly what `numpy.sum` does."
      ]
    },
    {
      "metadata": {
        "id": "_d_VkAF4C4O1",
        "colab_type": "code",
        "colab": {}
      },
      "cell_type": "code",
      "source": [
        "class reduce_sum(Operation):\n",
        "    \"\"\"Computes the sum of elements across dimensions of a tensor.\n",
        "    \"\"\"\n",
        "    \n",
        "    def __init__(self, A, axis = None):\n",
        "        \"\"\"Construct reduce_sum\n",
        "        \n",
        "        Args:\n",
        "          A: The tensor to reduce.\n",
        "          axis: The dimensions to reduce. If `None` (the default), reduces all dimensions.\n",
        "        \"\"\"\n",
        "        super().__init__([A])\n",
        "        self.axis = axis\n",
        "\n",
        "    def compute(self, A_value):\n",
        "        \"\"\"Compute the output of the reduce_sum operation\n",
        "        \n",
        "        Args:\n",
        "          A_value: Input tensor value\n",
        "        \"\"\"\n",
        "        return np.sum(A_value, self.axis)"
      ],
      "execution_count": 0,
      "outputs": []
    },
    {
      "metadata": {
        "id": "vocQB1leC4O3",
        "colab_type": "text"
      },
      "cell_type": "markdown",
      "source": [
        "### negative\n",
        "\n",
        "This computes the element-wise negative of a tensor."
      ]
    },
    {
      "metadata": {
        "id": "GhlrKSQAC4O4",
        "colab_type": "code",
        "colab": {}
      },
      "cell_type": "code",
      "source": [
        "class negative(Operation):\n",
        "    \"\"\"Computes the negative of x element-wise.\n",
        "    \"\"\"\n",
        "    \n",
        "    def __init__(self, x):\n",
        "        \"\"\"Construct negative\n",
        "        \n",
        "        Args:\n",
        "          x: Input node\n",
        "        \"\"\"\n",
        "        super().__init__([x])\n",
        "\n",
        "    def compute(self, x_value):\n",
        "        \"\"\"Compute the output of the negative operation\n",
        "        \n",
        "        Args:\n",
        "          x_value: Input value\n",
        "        \"\"\"\n",
        "        return -x_value"
      ],
      "execution_count": 0,
      "outputs": []
    },
    {
      "metadata": {
        "id": "MVobaOBlC4O6",
        "colab_type": "text"
      },
      "cell_type": "markdown",
      "source": [
        "### Putting it all together\n",
        "Using these operations, we can now compute $J = - \\sum_{i=1}^N \\sum_{j=1}^C (c \\odot log \\, p)_{i, j}\n",
        "$ as follows:\n",
        "\n",
        "    J = negative(reduce_sum(reduce_sum(multiply(c, log(p)), axis=1)))\n"
      ]
    },
    {
      "metadata": {
        "id": "Skrz9pkjC4O7",
        "colab_type": "text"
      },
      "cell_type": "markdown",
      "source": [
        "### Example\n",
        "\n",
        "Let's now compute the loss of our red/blue perceptron."
      ]
    },
    {
      "metadata": {
        "id": "6relmOLGC4O7",
        "colab_type": "code",
        "colab": {
          "base_uri": "https://localhost:8080/",
          "height": 34
        },
        "outputId": "6c5c3ad4-c4bf-4abf-b213-858b13d47cd7"
      },
      "cell_type": "code",
      "source": [
        "# Create a new graph\n",
        "Graph().as_default()\n",
        "\n",
        "X = placeholder()\n",
        "c = placeholder()\n",
        "\n",
        "W = Variable([\n",
        "    [1, -1],\n",
        "    [1, -1]\n",
        "])\n",
        "b = Variable([0, 0])\n",
        "p = softmax( add(matmul(X, W), b) )\n",
        "\n",
        "# Cross-entropy loss\n",
        "J = negative(reduce_sum(reduce_sum(multiply(c, log(p)), axis=1)))\n",
        "\n",
        "session = Session()\n",
        "print(session.run(J, {\n",
        "    X: np.concatenate((blue_points, red_points)),\n",
        "    c:\n",
        "        [[1, 0]] * len(blue_points)\n",
        "        + [[0, 1]] * len(red_points)\n",
        "    \n",
        "}))"
      ],
      "execution_count": 378,
      "outputs": [
        {
          "output_type": "stream",
          "text": [
            "0.619666939426101\n"
          ],
          "name": "stdout"
        }
      ]
    },
    {
      "metadata": {
        "id": "kDwnwgAaC4O-",
        "colab_type": "text"
      },
      "cell_type": "markdown",
      "source": [
        "# Gradient descent\n",
        "\n",
        "Generally, if we want to find the minimum of a function, we set the derivative to zero and solve for the parameters. It turns out, however, that it is impossible to obtain a closed-form solution for $W$ and $b$. Instead, we iteratively search for a minimum using a method called <b>gradient descent</b>.\n",
        "\n",
        "As a visual analogy, imagine yourself standing on a mountain and trying to find the way down. At every step, you walk into the steepest direction, since this direction is the most promising to lead you towards the bottom.\n",
        "\n",
        "<img src=\"https://github.com/johnsl01/WebBits/blob/master/Tensorflow/gradient_descent.png?raw=1\" style=\"width: 400px;\">\n",
        "\n",
        "If taking steep steps seems a little dangerous to you, imagine that you are a mountain goat (which are <a href=\"https://www.youtube.com/watch?v=hZWxlxrIWus\">amazing rock climbers</a>).\n",
        "\n",
        "Gradient descent operates in a similar way when trying to find the minimum of a function: It starts at a random location in parameter space and then iteratively reduces the error $J$ until it reaches a local minimum. At each step of the iteration, it determines the direction of steepest descent and takes a step along that direction. This process is depicted for the 1-dimensional case in the following image.\n",
        "\n",
        "<img src=\"https://github.com/johnsl01/WebBits/blob/master/Tensorflow/gradient_descent_2.png?123&raw=1\" style=\"width: 400px;\">\n",
        "\n",
        "As you might remember, the direction of steepest ascent of a function at a certain point is given by the gradient at that point. Therefore, the direction of steepest descent is given by the negative of the gradient. So now we have a rough idea how to minimize $J$:\n",
        "1. Start with random values for $W$ and $b$\n",
        "2. Compute the gradients of $J$ with respect to $W$ and $b$\n",
        "3. Take a small step along the direction of the negative gradient\n",
        "4. Go back to 2\n",
        "\n",
        "Let's implement an operation that minimizes the value of a node using gradient descent. We require the user to specify the magnitude of the step along the gradient as a parameter called `learning_rate`."
      ]
    },
    {
      "metadata": {
        "id": "fjm0vt4yC4O_",
        "colab_type": "code",
        "colab": {}
      },
      "cell_type": "code",
      "source": [
        "from queue import Queue\n",
        "\n",
        "class GradientDescentOptimizer:\n",
        "    \n",
        "    def __init__(self, learning_rate):\n",
        "        self.learning_rate = learning_rate\n",
        "        \n",
        "    def minimize(self, loss):\n",
        "        learning_rate = self.learning_rate\n",
        "        class MinimizationOperation(Operation):\n",
        "            def compute(self):\n",
        "                # Compute gradients\n",
        "                grad_table = compute_gradients(loss)\n",
        "                \n",
        "                # Iterate all variables\n",
        "                for node in grad_table:\n",
        "                    if type(node) == Variable:\n",
        "                        # Retrieve gradient for this variable\n",
        "                        grad = grad_table[node]\n",
        "                                                \n",
        "                        # Take a step along the direction of the negative gradient\n",
        "                        node.value -= learning_rate * grad\n",
        "                \n",
        "                \n",
        "        return MinimizationOperation()"
      ],
      "execution_count": 0,
      "outputs": []
    },
    {
      "metadata": {
        "id": "1K_x3csuC4PB",
        "colab_type": "text"
      },
      "cell_type": "markdown",
      "source": [
        "The following image depicts an example iteration of gradient descent. We start out with a random separating line (marked as 1), take a step, arrive at a slightly better line (marked as 2), take another step, and another step, and so on until we arrive at a good separating line.\n",
        "\n",
        "<img src=\"https://github.com/johnsl01/WebBits/blob/master/Tensorflow/gradient_descent_3.png?raw=1\" style=\"height: 250px;\">\n",
        "\n",
        "# Backpropagation\n",
        "\n",
        "In our implementation of gradient descent, we have used a function `compute_gradient(loss)` that computes the gradient of a $loss$ operation in our computational graph with respect to the output of every other node $n$ (i.e. the direction of change for $n$ along which the loss increases the most). We now need to figure out how to compute gradients.\n",
        "\n",
        "Consider the following computational graph:\n",
        "\n",
        "<img src=\"https://github.com/johnsl01/WebBits/blob/master/Tensorflow/abcde.png?raw=1\" style=\"height: 70px;\">\n",
        "\n",
        "By the <a href=\"https://en.wikipedia.org/wiki/Chain_rule\">chain rule</a>, we have\n",
        "\n",
        "$$\\frac{\\partial e}{\\partial a} = \\frac{\\partial e}{\\partial b} \\cdot \\frac{\\partial b}{\\partial a} = \\frac{\\partial e}{\\partial c} \\cdot \\frac{\\partial c}{\\partial b} \\cdot \\frac{\\partial b}{\\partial a} = \\frac{\\partial e}{\\partial d} \\cdot \\frac{\\partial d}{\\partial c} \\cdot \\frac{\\partial c}{\\partial b} \\cdot \\frac{\\partial b}{\\partial a}$$\n",
        "\n",
        "As we can see, in order to compute the gradient of $e$ with respect to $a$, we can start at $e$ an go backwards towards $a$, computing the gradient of every node's output with respect to its input along the way until we reach $a$. Then, we multiply them all together.\n",
        "\n",
        "Now consider the following scenario:\n",
        "\n",
        "<img src=\"https://github.com/johnsl01/WebBits/blob/master/Tensorflow/abcde2.png?raw=1\" style=\"height: 160px;\">"
      ]
    },
    {
      "metadata": {
        "id": "TtlXwAItC4PC",
        "colab_type": "text"
      },
      "cell_type": "markdown",
      "source": [
        "In this case, $a$ contributes to $e$ along two paths: The path $a$, $b$, $d$, $e$ and the path $a$, $b$, $c$, $e$. Hence, the <a href=\"https://en.wikipedia.org/wiki/Total_derivative\">total derivative</a> of $e$ with respect to $a$ is given by:\n",
        "\n",
        "$$\n",
        "\\frac{\\partial e}{\\partial a}\n",
        "= \\frac{\\partial e}{\\partial d} \\cdot \\frac{\\partial d}{\\partial a}\n",
        "= \\frac{\\partial e}{\\partial d} \\cdot \\left( \\frac{\\partial d}{\\partial b} \\cdot \\frac{\\partial b}{\\partial a} + \\frac{\\partial d}{\\partial c} \\cdot \\frac{\\partial c}{\\partial a} \\right)\n",
        "= \\frac{\\partial e}{\\partial d} \\cdot \\frac{\\partial d}{\\partial b} \\cdot \\frac{\\partial b}{\\partial a} + \\frac{\\partial e}{\\partial d} \\cdot \\frac{\\partial d}{\\partial c} \\cdot \\frac{\\partial c}{\\partial a}\n",
        "$$\n",
        "\n",
        "This gives as an intuition for the general algorithm that computes the gradient of the loss with respect to another node: We perform a backwards <a href=\"https://en.wikipedia.org/wiki/Breadth-first_search\">breadth-first search</a> starting from the loss node. At each node $n$ that we visit, we do the following for each of its consumers:\n",
        "- retrieve the gradient $G$ of the loss with respect to the output of the consumer\n",
        "- multiply $G$ by the gradient of the consumer's output with respect to $n$'s output\n",
        "\n",
        "And then we sum those gradients over all consumers.\n",
        "\n",
        "As a prerequisite to implementing backpropagation, we need to specify a function for each operation that computes the gradients with respect to the inputs of that operation, given the gradients with respect to the output. Let's define a decorator `@RegisterGradient(operation_name)` for this purpose:"
      ]
    },
    {
      "metadata": {
        "id": "-0vuSCMuC4PD",
        "colab_type": "code",
        "colab": {}
      },
      "cell_type": "code",
      "source": [
        "# A dictionary that will map operations to gradient functions\n",
        "_gradient_registry = {}\n",
        "            \n",
        "class RegisterGradient:\n",
        "    \"\"\"A decorator for registering the gradient function for an op type.\n",
        "    \"\"\"\n",
        "\n",
        "    def __init__(self, op_type):\n",
        "        \"\"\"Creates a new decorator with `op_type` as the Operation type.\n",
        "        Args:\n",
        "          op_type: The name of an operation\n",
        "        \"\"\"\n",
        "        self._op_type = eval(op_type)\n",
        "\n",
        "    def __call__(self, f):\n",
        "        \"\"\"Registers the function `f` as gradient function for `op_type`.\"\"\"\n",
        "        _gradient_registry[self._op_type] = f\n",
        "        return f"
      ],
      "execution_count": 0,
      "outputs": []
    },
    {
      "metadata": {
        "id": "urzWb2gbC4PF",
        "colab_type": "text"
      },
      "cell_type": "markdown",
      "source": [
        "Now assume that our `_gradient_registry` dictionary is already filled with gradient computation functions for all of our operations. We can now implement backpropagation:"
      ]
    },
    {
      "metadata": {
        "id": "gSkmS17fC4PG",
        "colab_type": "code",
        "colab": {}
      },
      "cell_type": "code",
      "source": [
        "from queue import Queue\n",
        "\n",
        "def compute_gradients(loss):\n",
        "\n",
        "    # grad_table[node] will contain the gradient of the loss w.r.t. the node's output\n",
        "    grad_table = {}\n",
        "\n",
        "    # The gradient of the loss with respect to the loss is just 1\n",
        "    grad_table[loss] = 1\n",
        "\n",
        "    # Perform a breadth-first search, backwards from the loss\n",
        "    visited = set()\n",
        "    queue = Queue()\n",
        "    visited.add(loss)\n",
        "    queue.put(loss)\n",
        "\n",
        "    while not queue.empty():\n",
        "        node = queue.get()\n",
        "\n",
        "        # If this node is not the loss\n",
        "        if node != loss:\n",
        "            #\n",
        "            # Compute the gradient of the loss with respect to this node's output\n",
        "            #\n",
        "            grad_table[node] = 0\n",
        "\n",
        "            # Iterate all consumers\n",
        "            for consumer in node.consumers:\n",
        "\n",
        "                # Retrieve the gradient of the loss w.r.t. consumer's output\n",
        "                lossgrad_wrt_consumer_output = grad_table[consumer]\n",
        "\n",
        "                # Retrieve the function which computes gradients with respect to\n",
        "                # consumer's inputs given gradients with respect to consumer's output.\n",
        "                consumer_op_type = consumer.__class__\n",
        "                bprop = _gradient_registry[consumer_op_type]\n",
        "\n",
        "                # Get the gradient of the loss with respect to all of consumer's inputs\n",
        "                lossgrads_wrt_consumer_inputs = bprop(consumer, lossgrad_wrt_consumer_output)\n",
        "                \n",
        "                if len(consumer.input_nodes) == 1:\n",
        "                    # If there is a single input node to the consumer, lossgrads_wrt_consumer_inputs is a scalar\n",
        "                    grad_table[node] += lossgrads_wrt_consumer_inputs\n",
        "                    \n",
        "                else:\n",
        "                    # Otherwise, lossgrads_wrt_consumer_inputs is an array of gradients for each input node\n",
        "                \n",
        "                    # Retrieve the index of node in consumer's inputs\n",
        "                    node_index_in_consumer_inputs = consumer.input_nodes.index(node)\n",
        "\n",
        "                    # Get the gradient of the loss with respect to node\n",
        "                    lossgrad_wrt_node = lossgrads_wrt_consumer_inputs[node_index_in_consumer_inputs]\n",
        "\n",
        "                    # Add to total gradient\n",
        "                    grad_table[node] += lossgrad_wrt_node\n",
        "\n",
        "        #\n",
        "        # Append each input node to the queue\n",
        "        #\n",
        "        if hasattr(node, \"input_nodes\"):\n",
        "            for input_node in node.input_nodes:\n",
        "                if not input_node in visited:\n",
        "                    visited.add(input_node)\n",
        "                    queue.put(input_node)\n",
        "            \n",
        "    # Return gradients for each visited node\n",
        "    return grad_table"
      ],
      "execution_count": 0,
      "outputs": []
    },
    {
      "metadata": {
        "id": "enyvDC9_C4PH",
        "colab_type": "text"
      },
      "cell_type": "markdown",
      "source": [
        "## Gradient of each operation\n",
        "\n",
        "For each of our operations, we now need to define a function that turns a gradient of the loss with respect to the operation's output into a list of gradients of the loss with respect to each of the operation's inputs. Computing a gradient with respect to a matrix can be somewhat tedious. Therefore, the details have been omitted and I just present the results. You may skip this section and still understand the overall picture.\n",
        "\n",
        "If you want to comprehend how to arrive at the results, the general approach is as follows:\n",
        "- Find the partial derivative of each output value with respect to each input value (this can be a tensor of a rank greater than 2, i.e. neither scalar nor vector nor matrix, involving a lot of summations)\n",
        "- Compute the gradient of the loss with respect to the node's inputs given a gradient with respect to the node's output by applying the chain rule. This is now a tensor of the same shape as the input tensor, so if the input is a matrix, the result is also a matrix\n",
        "- Rewrite this result as a sequence of matrix operations in order to compute it efficiently. This step can be somewhat tricky.\n",
        "\n",
        "### Gradient for `add`\n",
        "Given a gradient $G$ with respect to $a + b$, the gradient with respect to $a$ is given by $G$ and the gradient with respect to $b$ is also given by $G$, provided that $a$ and $b$ are of the same shape. If $a$ and $b$ are of different shapes, e.g. one matrix $a$ with 100 rows and one row vector $b$, we assume that $b$ is added to each row of $a$. In this case, the gradient computation is a little more involved, but I will not spell out the details here."
      ]
    },
    {
      "metadata": {
        "id": "n7U7eBR5C4PI",
        "colab_type": "code",
        "colab": {}
      },
      "cell_type": "code",
      "source": [
        "@RegisterGradient(\"add\")\n",
        "def _add_gradient(op, grad):\n",
        "    \"\"\"Computes the gradients for `add`.\n",
        "\n",
        "    Args:\n",
        "      op: The `add` `Operation` that we are differentiating\n",
        "      grad: Gradient with respect to the output of the `add` op.\n",
        "\n",
        "    Returns:\n",
        "      Gradients with respect to the input of `add`.\n",
        "    \"\"\"\n",
        "    a = op.inputs[0]\n",
        "    b = op.inputs[1]\n",
        "    \n",
        "    grad_wrt_a = grad\n",
        "    while np.ndim(grad_wrt_a) > len(a.shape):\n",
        "        grad_wrt_a = np.sum(grad_wrt_a, axis=0)\n",
        "    for axis, size in enumerate(a.shape):\n",
        "        if size == 1:\n",
        "            grad_wrt_a = np.sum(grad_wrt_a, axis=axis, keepdims=True)\n",
        "    \n",
        "    grad_wrt_b = grad\n",
        "    while np.ndim(grad_wrt_b) > len(b.shape):\n",
        "        grad_wrt_b = np.sum(grad_wrt_b, axis=0)\n",
        "    for axis, size in enumerate(b.shape):\n",
        "        if size == 1:\n",
        "            grad_wrt_b = np.sum(grad_wrt_b, axis=axis, keepdims=True)\n",
        "    \n",
        "    return [grad_wrt_a, grad_wrt_b]"
      ],
      "execution_count": 0,
      "outputs": []
    },
    {
      "metadata": {
        "id": "g3Bm3HqFC4PM",
        "colab_type": "text"
      },
      "cell_type": "markdown",
      "source": [
        "### Gradient for `matmul`\n",
        "\n",
        "Given a gradient $G$ with respect to $AB$, the gradient with respect to $A$ is given by $GB^T$ and the gradient with respect to $B$ is given by $A^TG$."
      ]
    },
    {
      "metadata": {
        "id": "0G-RnMQ7C4PM",
        "colab_type": "code",
        "colab": {}
      },
      "cell_type": "code",
      "source": [
        "@RegisterGradient(\"matmul\")\n",
        "def _matmul_gradient(op, grad):\n",
        "    \"\"\"Computes the gradients for `matmul`.\n",
        "\n",
        "    Args:\n",
        "      op: The `matmul` `Operation` that we are differentiating\n",
        "      grad: Gradient with respect to the output of the `matmul` op.\n",
        "\n",
        "    Returns:\n",
        "      Gradients with respect to the input of `matmul`.\n",
        "    \"\"\"\n",
        "\n",
        "    A = op.inputs[0]\n",
        "    B = op.inputs[1]\n",
        "\n",
        "    return [grad.dot(B.T), A.T.dot(grad)]"
      ],
      "execution_count": 0,
      "outputs": []
    },
    {
      "metadata": {
        "id": "vP5WIZZmC4PP",
        "colab_type": "text"
      },
      "cell_type": "markdown",
      "source": [
        "### Gradient for `sigmoid`\n",
        "\n",
        "Given a gradient $G$ with respect to $\\sigma(a)$, the gradient with respect to $a$ is given by $G \\cdot \\sigma(a) \\cdot \\sigma(1-a)$."
      ]
    },
    {
      "metadata": {
        "id": "OVzqJKptC4PQ",
        "colab_type": "code",
        "colab": {}
      },
      "cell_type": "code",
      "source": [
        "@RegisterGradient(\"sigmoid\")\n",
        "def _sigmoid_gradient(op, grad):\n",
        "    \"\"\"Computes the gradients for `sigmoid`.\n",
        "\n",
        "    Args:\n",
        "      op: The `sigmoid` `Operation` that we are differentiating\n",
        "      grad: Gradient with respect to the output of the `sigmoid` op.\n",
        "\n",
        "    Returns:\n",
        "      Gradients with respect to the input of `sigmoid`.\n",
        "    \"\"\"\n",
        "    \n",
        "    sigmoid = op.output\n",
        "\n",
        "    return grad * sigmoid * (1-sigmoid)"
      ],
      "execution_count": 0,
      "outputs": []
    },
    {
      "metadata": {
        "id": "WmeusMVcC4Pc",
        "colab_type": "text"
      },
      "cell_type": "markdown",
      "source": [
        "### Gradient for `softmax`\n"
      ]
    },
    {
      "metadata": {
        "id": "PpCwn4v8C4Pd",
        "colab_type": "code",
        "colab": {}
      },
      "cell_type": "code",
      "source": [
        "@RegisterGradient(\"softmax\")\n",
        "def _softmax_gradient(op, grad):\n",
        "    \"\"\"Computes the gradients for `softmax`.\n",
        "\n",
        "    Args:\n",
        "      op: The `softmax` `Operation` that we are differentiating\n",
        "      grad: Gradient with respect to the output of the `softmax` op.\n",
        "\n",
        "    Returns:\n",
        "      Gradients with respect to the input of `softmax`.\n",
        "    \"\"\"\n",
        "    \n",
        "    softmax = op.output\n",
        "    return (grad - np.reshape(\n",
        "        np.sum(grad * softmax, 1),\n",
        "        [-1, 1]\n",
        "    )) * softmax"
      ],
      "execution_count": 0,
      "outputs": []
    },
    {
      "metadata": {
        "id": "FTaE4L1iC4Pf",
        "colab_type": "text"
      },
      "cell_type": "markdown",
      "source": [
        "### Gradient for `log`\n",
        "\n",
        "Given a gradient $G$ with respect to $log(x)$, the gradient with respect to $x$ is given by $\\frac{G}{x}$."
      ]
    },
    {
      "metadata": {
        "id": "tnzyFC4gC4Pg",
        "colab_type": "code",
        "colab": {}
      },
      "cell_type": "code",
      "source": [
        "@RegisterGradient(\"log\")\n",
        "def _log_gradient(op, grad):\n",
        "    \"\"\"Computes the gradients for `log`.\n",
        "\n",
        "    Args:\n",
        "      op: The `log` `Operation` that we are differentiating\n",
        "      grad: Gradient with respect to the output of the `log` op.\n",
        "\n",
        "    Returns:\n",
        "      Gradients with respect to the input of `log`.\n",
        "    \"\"\"\n",
        "    x = op.inputs[0]\n",
        "    return grad/x"
      ],
      "execution_count": 0,
      "outputs": []
    },
    {
      "metadata": {
        "id": "yjg8uM18C4Pn",
        "colab_type": "text"
      },
      "cell_type": "markdown",
      "source": [
        "### Gradient for `multiply`\n",
        "\n",
        "Given a gradient $G$ with respect to $A \\odot B$, the gradient with respect to $A$ is given by $G \\odot B$ and the gradient with respect to $B$ is given by $G \\odot A$."
      ]
    },
    {
      "metadata": {
        "id": "QfdbfMvBC4Pp",
        "colab_type": "code",
        "colab": {}
      },
      "cell_type": "code",
      "source": [
        "@RegisterGradient(\"multiply\")\n",
        "def _multiply_gradient(op, grad):\n",
        "    \"\"\"Computes the gradients for `multiply`.\n",
        "\n",
        "    Args:\n",
        "      op: The `multiply` `Operation` that we are differentiating\n",
        "      grad: Gradient with respect to the output of the `multiply` op.\n",
        "\n",
        "    Returns:\n",
        "      Gradients with respect to the input of `multiply`.\n",
        "    \"\"\"\n",
        "\n",
        "    A = op.inputs[0]\n",
        "    B = op.inputs[1]\n",
        "\n",
        "    return [grad * B, grad * A]"
      ],
      "execution_count": 0,
      "outputs": []
    },
    {
      "metadata": {
        "id": "pQrLSRDKC4Ps",
        "colab_type": "text"
      },
      "cell_type": "markdown",
      "source": [
        "### Gradient for `reduce_sum`\n",
        "\n",
        "Given a gradient $G$ with respect to the output of `reduce_sum`, the gradient with respect to the input $A$ is given by repeating $G$ along the specified axis."
      ]
    },
    {
      "metadata": {
        "id": "MSn85uBzC4Ps",
        "colab_type": "code",
        "colab": {}
      },
      "cell_type": "code",
      "source": [
        "@RegisterGradient(\"reduce_sum\")\n",
        "def _reduce_sum_gradient(op, grad):\n",
        "    \"\"\"Computes the gradients for `reduce_sum`.\n",
        "\n",
        "    Args:\n",
        "      op: The `reduce_sum` `Operation` that we are differentiating\n",
        "      grad: Gradient with respect to the output of the `reduce_sum` op.\n",
        "\n",
        "    Returns:\n",
        "      Gradients with respect to the input of `reduce_sum`.\n",
        "    \"\"\"\n",
        "    A = op.inputs[0]\n",
        "\n",
        "    output_shape = np.array(A.shape)\n",
        "    output_shape[op.axis] = 1\n",
        "    tile_scaling = A.shape // output_shape\n",
        "    grad = np.reshape(grad, output_shape)\n",
        "    return np.tile(grad, tile_scaling)"
      ],
      "execution_count": 0,
      "outputs": []
    },
    {
      "metadata": {
        "id": "By4KDg1SC4Pu",
        "colab_type": "text"
      },
      "cell_type": "markdown",
      "source": [
        "### Gradient for `negative`\n",
        "\n",
        "Given a gradient $G$ with respect to $-x$, the gradient with respect to $x$ is given by $-G$."
      ]
    },
    {
      "metadata": {
        "id": "L0C7IUh_C4Pv",
        "colab_type": "code",
        "colab": {}
      },
      "cell_type": "code",
      "source": [
        "@RegisterGradient(\"negative\")\n",
        "def _negative_gradient(op, grad):\n",
        "    \"\"\"Computes the gradients for `negative`.\n",
        "\n",
        "    Args:\n",
        "      op: The `negative` `Operation` that we are differentiating\n",
        "      grad: Gradient with respect to the output of the `negative` op.\n",
        "\n",
        "    Returns:\n",
        "      Gradients with respect to the input of `negative`.\n",
        "    \"\"\"\n",
        "    return -grad"
      ],
      "execution_count": 0,
      "outputs": []
    },
    {
      "metadata": {
        "collapsed": true,
        "id": "PK6_mb8_C4Pw",
        "colab_type": "text"
      },
      "cell_type": "markdown",
      "source": [
        "## Example\n",
        "\n",
        "Let's now test our implementation to determine the optimal weights for our perceptron."
      ]
    },
    {
      "metadata": {
        "id": "Oik-aYyhC4Px",
        "colab_type": "code",
        "colab": {
          "base_uri": "https://localhost:8080/",
          "height": 1802
        },
        "outputId": "a1310700-8a1e-4763-f4d6-cc6eaf85fd73"
      },
      "cell_type": "code",
      "source": [
        "# Create a new graph\n",
        "Graph().as_default()\n",
        "\n",
        "X = placeholder()\n",
        "c = placeholder()\n",
        "\n",
        "# Initialize weights randomly\n",
        "W = Variable(np.random.randn(2, 2))\n",
        "b = Variable(np.random.randn(2))\n",
        "\n",
        "# Build perceptron\n",
        "p = softmax( add(matmul(X, W), b) )\n",
        "\n",
        "# Build cross-entropy loss\n",
        "J = negative(reduce_sum(reduce_sum(multiply(c, log(p)), axis=1)))\n",
        "\n",
        "# Build minimization op\n",
        "minimization_op = GradientDescentOptimizer(learning_rate = 0.01).minimize(J)\n",
        "\n",
        "# Build placeholder inputs\n",
        "feed_dict = {\n",
        "    X: np.concatenate((blue_points, red_points)),\n",
        "    c:\n",
        "        [[1, 0]] * len(blue_points)\n",
        "        + [[0, 1]] * len(red_points)\n",
        "    \n",
        "}\n",
        "\n",
        "# Create session\n",
        "session = Session()\n",
        "\n",
        "# Perform 100 gradient descent steps\n",
        "for step in range(1000):\n",
        "    J_value = session.run(J, feed_dict)\n",
        "    if step % 10 == 0:\n",
        "        print(\"Step:\", step, \" Loss:\", J_value)\n",
        "    session.run(minimization_op, feed_dict)\n",
        "\n",
        "# Print final result\n",
        "W_value = session.run(W)\n",
        "print(\"Weight matrix:\\n\", W_value)\n",
        "b_value = session.run(b)\n",
        "print(\"Bias:\\n\", b_value)"
      ],
      "execution_count": 390,
      "outputs": [
        {
          "output_type": "stream",
          "text": [
            "Step: 0  Loss: 0.6696637272462251\n",
            "Step: 10  Loss: 0.5837030599725683\n",
            "Step: 20  Loss: 0.5225927420222886\n",
            "Step: 30  Loss: 0.47630484520421973\n",
            "Step: 40  Loss: 0.4396655347375463\n",
            "Step: 50  Loss: 0.4097120401989747\n",
            "Step: 60  Loss: 0.38461422020056757\n",
            "Step: 70  Loss: 0.36317439821720043\n",
            "Step: 80  Loss: 0.34457228816833435\n",
            "Step: 90  Loss: 0.3282249829938681\n",
            "Step: 100  Loss: 0.3137054452403254\n",
            "Step: 110  Loss: 0.30069271136828396\n",
            "Step: 120  Loss: 0.28894021979174533\n",
            "Step: 130  Loss: 0.27825496525258\n",
            "Step: 140  Loss: 0.2684833690511644\n",
            "Step: 150  Loss: 0.25950145316281875\n",
            "Step: 160  Loss: 0.25120785196811446\n",
            "Step: 170  Loss: 0.24351874222641998\n",
            "Step: 180  Loss: 0.2363640988864529\n",
            "Step: 190  Loss: 0.2296848856326777\n",
            "Step: 200  Loss: 0.2234309162933333\n",
            "Step: 210  Loss: 0.2175592055554202\n",
            "Step: 220  Loss: 0.2120326818355174\n",
            "Step: 230  Loss: 0.20681917180756193\n",
            "Step: 240  Loss: 0.20189059121804767\n",
            "Step: 250  Loss: 0.19722229412662035\n",
            "Step: 260  Loss: 0.19279254508860078\n",
            "Step: 270  Loss: 0.18858208766792392\n",
            "Step: 280  Loss: 0.18457378910797986\n",
            "Step: 290  Loss: 0.18075234571624907\n",
            "Step: 300  Loss: 0.17710403702840236\n",
            "Step: 310  Loss: 0.17361651944969114\n",
            "Step: 320  Loss: 0.17027865206389137\n",
            "Step: 330  Loss: 0.16708034882196104\n",
            "Step: 340  Loss: 0.16401245249470392\n",
            "Step: 350  Loss: 0.16106662668351354\n",
            "Step: 360  Loss: 0.15823526289487472\n",
            "Step: 370  Loss: 0.15551140024460058\n",
            "Step: 380  Loss: 0.15288865580195987\n",
            "Step: 390  Loss: 0.1503611639382515\n",
            "Step: 400  Loss: 0.1479235233286577\n",
            "Step: 410  Loss: 0.14557075048574555\n",
            "Step: 420  Loss: 0.14329823888913393\n",
            "Step: 430  Loss: 0.14110172292768594\n",
            "Step: 440  Loss: 0.13897724599502784\n",
            "Step: 450  Loss: 0.13692113218161503\n",
            "Step: 460  Loss: 0.13492996109132488\n",
            "Step: 470  Loss: 0.13300054538086806\n",
            "Step: 480  Loss: 0.13112991067901708\n",
            "Step: 490  Loss: 0.12931527759176165\n",
            "Step: 500  Loss: 0.12755404554075206\n",
            "Step: 510  Loss: 0.12584377821722048\n",
            "Step: 520  Loss: 0.12418219046301135\n",
            "Step: 530  Loss: 0.12256713641532709\n",
            "Step: 540  Loss: 0.12099659877316217\n",
            "Step: 550  Loss: 0.11946867906150262\n",
            "Step: 560  Loss: 0.11798158878502508\n",
            "Step: 570  Loss: 0.1165336413763771\n",
            "Step: 580  Loss: 0.11512324485570934\n",
            "Step: 590  Loss: 0.1137488951280541\n",
            "Step: 600  Loss: 0.11240916985378922\n",
            "Step: 610  Loss: 0.11110272283497566\n",
            "Step: 620  Loss: 0.10982827886678714\n",
            "Step: 630  Loss: 0.10858462900903854\n",
            "Step: 640  Loss: 0.10737062623773595\n",
            "Step: 650  Loss: 0.10618518144094356\n",
            "Step: 660  Loss: 0.10502725972712723\n",
            "Step: 670  Loss: 0.10389587701742037\n",
            "Step: 680  Loss: 0.10279009689634354\n",
            "Step: 690  Loss: 0.10170902769799996\n",
            "Step: 700  Loss: 0.10065181980721494\n",
            "Step: 710  Loss: 0.09961766315704643\n",
            "Step: 720  Loss: 0.09860578490596135\n",
            "Step: 730  Loss: 0.09761544727962589\n",
            "Step: 740  Loss: 0.0966459455636227\n",
            "Step: 750  Loss: 0.09569660623478643\n",
            "Step: 760  Loss: 0.09476678521995915\n",
            "Step: 770  Loss: 0.09385586627198114\n",
            "Step: 780  Loss: 0.0929632594537215\n",
            "Step: 790  Loss: 0.09208839972172585\n",
            "Step: 800  Loss: 0.09123074560180248\n",
            "Step: 810  Loss: 0.0903897779496258\n",
            "Step: 820  Loss: 0.08956499878991045\n",
            "Step: 830  Loss: 0.08875593022838128\n",
            "Step: 840  Loss: 0.08796211343116538\n",
            "Step: 850  Loss: 0.08718310766674514\n",
            "Step: 860  Loss: 0.0864184894059749\n",
            "Step: 870  Loss: 0.08566785147603745\n",
            "Step: 880  Loss: 0.08493080226458861\n",
            "Step: 890  Loss: 0.08420696497057799\n",
            "Step: 900  Loss: 0.08349597689855906\n",
            "Step: 910  Loss: 0.08279748879353227\n",
            "Step: 920  Loss: 0.0821111642136111\n",
            "Step: 930  Loss: 0.08143667893796214\n",
            "Step: 940  Loss: 0.08077372040775199\n",
            "Step: 950  Loss: 0.08012198719789497\n",
            "Step: 960  Loss: 0.07948118851765751\n",
            "Step: 970  Loss: 0.07885104373825702\n",
            "Step: 980  Loss: 0.07823128194574376\n",
            "Step: 990  Loss: 0.07762164151761458\n",
            "Weight matrix:\n",
            " [[ 3.37260663 -0.49100254]\n",
            " [ 2.68872431 -0.8698365 ]]\n",
            "Bias:\n",
            " [-0.93121883  0.09586268]\n"
          ],
          "name": "stdout"
        }
      ]
    },
    {
      "metadata": {
        "id": "PfdX5wrJC4P3",
        "colab_type": "text"
      },
      "cell_type": "markdown",
      "source": [
        "Notice that we started out with a rather high loss and incrementally reduced it. Let's plot the final line to check that it is a good separator:"
      ]
    },
    {
      "metadata": {
        "id": "xt_gGCYdC4P3",
        "colab_type": "code",
        "colab": {
          "base_uri": "https://localhost:8080/",
          "height": 269
        },
        "outputId": "a606a560-6d8d-4d5f-cc62-361758044530"
      },
      "cell_type": "code",
      "source": [
        "# Plot a line y = -x\n",
        "x_axis = np.linspace(-4, 4, 100)\n",
        "y_axis = -W_value[0][0]/W_value[1][0] * x_axis - b_value[0]/W_value[1][0]\n",
        "plt.plot(x_axis, y_axis)\n",
        "\n",
        "# Add the red and blue points\n",
        "plt.scatter(red_points[:,0], red_points[:,1], color='red')\n",
        "plt.scatter(blue_points[:,0], blue_points[:,1], color='blue')\n",
        "plt.show()"
      ],
      "execution_count": 391,
      "outputs": [
        {
          "output_type": "display_data",
          "data": {
            "image/png": "[encoded data removed]",
            "text/plain": [
              "<Figure size 432x288 with 1 Axes>"
            ]
          },
          "metadata": {
            "tags": []
          }
        }
      ]
    },
    {
      "metadata": {
        "id": "JLr6qH4sC4P6",
        "colab_type": "text"
      },
      "cell_type": "markdown",
      "source": [
        "# Multi-layer perceptrons\n",
        "\n",
        "## Motivation\n",
        "\n",
        "So now we are able to train linear classifiers of arbitrary dimensionality automatically. However, many real-world classes are not linearly separable. This means that there does not exist any line with all the points of the first class on one side of the line and all the points of the other class on the other side. Let's illustrate this with an example."
      ]
    },
    {
      "metadata": {
        "id": "qheb8YFoC4P9",
        "colab_type": "code",
        "colab": {
          "base_uri": "https://localhost:8080/",
          "height": 269
        },
        "outputId": "893120fe-1da4-4802-852c-06f81c432684"
      },
      "cell_type": "code",
      "source": [
        "# Create two clusters of red points centered at (0, 0) and (1, 1), respectively.\n",
        "red_points = np.concatenate((\n",
        "    0.2*np.random.randn(25, 2) + np.array([[0, 0]]*25),\n",
        "    0.2*np.random.randn(25, 2) + np.array([[1, 1]]*25)\n",
        "))\n",
        "\n",
        "# Create two clusters of blue points centered at (0, 1) and (1, 0), respectively.\n",
        "blue_points = np.concatenate((\n",
        "    0.2*np.random.randn(25, 2) + np.array([[0, 1]]*25),\n",
        "    0.2*np.random.randn(25, 2) + np.array([[1, 0]]*25)\n",
        "))\n",
        "\n",
        "# Plot them\n",
        "plt.scatter(red_points[:,0], red_points[:,1], color='red')\n",
        "plt.scatter(blue_points[:,0], blue_points[:,1], color='blue')\n",
        "plt.show()"
      ],
      "execution_count": 392,
      "outputs": [
        {
          "output_type": "display_data",
          "data": {
            "image/png": "[encoded data removed]",
            "text/plain": [
              "<Figure size 432x288 with 1 Axes>"
            ]
          },
          "metadata": {
            "tags": []
          }
        }
      ]
    },
    {
      "metadata": {
        "id": "WCmFt-NDC4QA",
        "colab_type": "text"
      },
      "cell_type": "markdown",
      "source": [
        "As we can see, it is impossible to draw a line that separates the blue points from the red points. Instead, our decision boundary has to have a rather complex shape. This is where multi-layer perceptrons come into play: They allow us to train a decision boundary of a more complex shape than a straight line.\n",
        "\n",
        "## Computational graph\n",
        "\n",
        "As their name suggests, multi-layer perceptrons (MLPs) are composed of multiple perceptrons stacked one after the other in a layer-wise fashion. Let's look at a visualization of the computational graph:\n",
        "\n",
        "<img src=\"https://github.com/johnsl01/WebBits/blob/master/Tensorflow/mlp.png?2&raw=1\">\n",
        "\n",
        "As we can see, the input is fed into the first layer, which is a multidimensional perceptron with a weight matrix $W_1$ and bias vector $b_1$. The output of that layer is then fed into second layer, which is again a perceptron with another weight matrix $W_2$ and bias vector $b_2$. This process continues for every of the $L$ layers until we reach the output layer. We refer to the last layer as the <b>output layer</b> and to every other layer as a <b>hidden layer</b>.\n",
        "\n",
        "an MLP with one hidden layers computes the function\n",
        "\n",
        "$$\\sigma(\\sigma(X \\, W_1 + b_1) W_2 + b_2) \\,,$$\n",
        "\n",
        "an MLP with two hidden layers computes the function\n",
        "\n",
        "$$\\sigma(\\sigma(\\sigma(X \\, W_1 + b_1) W_2 + b_2) \\, W_3 \\,,$$\n",
        "\n",
        "and, generally, an MLP with $L-1$ hidden layers computes the function\n",
        "\n",
        "$$\\sigma(\\sigma( \\cdots \\sigma(\\sigma(X \\, W_1 + b_1) W_2 + b_2) \\cdots) \\, W_L + b_L) \\,.$$\n",
        "\n",
        "## Implementation\n",
        "\n",
        "Using the library we have built, we can now easily implement multi-layer perceptrons without further work."
      ]
    },
    {
      "metadata": {
        "id": "Kic7INNSC4QA",
        "colab_type": "code",
        "colab": {
          "base_uri": "https://localhost:8080/",
          "height": 510
        },
        "outputId": "e1a712e5-20a7-4a84-c2d5-e2ef00eacba5"
      },
      "cell_type": "code",
      "source": [
        "# Create a new graph\n",
        "Graph().as_default()\n",
        "\n",
        "# Create training input placeholder\n",
        "X = placeholder()\n",
        "\n",
        "# Create placeholder for the training classes\n",
        "c = placeholder()\n",
        "\n",
        "# Build a first hidden layer\n",
        "W_hidden = Variable(np.random.randn(2, 2))\n",
        "b_hidden = Variable(np.random.randn(2))\n",
        "p_hidden = sigmoid( add(matmul(X, W_hidden), b_hidden) )\n",
        "\n",
        "# Build a second hidden layer\n",
        "W_hidden2 = Variable(np.random.randn(2, 2))\n",
        "b_hidden2 = Variable(np.random.randn(2))\n",
        "p_hidden2 = sigmoid( add(matmul(p_hidden, W_hidden2), b_hidden2) )\n",
        "\n",
        "# Build a third hidden layer\n",
        "W_hidden3 = Variable(np.random.randn(2, 2))\n",
        "b_hidden3 = Variable(np.random.randn(2))\n",
        "p_hidden3 = sigmoid( add(matmul(p_hidden2, W_hidden3), b_hidden3) )\n",
        "\n",
        "# Build the output layer\n",
        "W_output = Variable(np.random.randn(2, 2))\n",
        "b_output = Variable(np.random.randn(2))\n",
        "p_output = softmax( add(matmul(p_hidden3, W_output), b_output) )\n",
        "\n",
        "# Build cross-entropy loss\n",
        "J = negative(reduce_sum(reduce_sum(multiply(c, log(p_output)), axis=1)))\n",
        "\n",
        "# Build minimization op\n",
        "minimization_op = GradientDescentOptimizer(learning_rate = 0.03).minimize(J)\n",
        "\n",
        "# Build placeholder inputs\n",
        "feed_dict = {\n",
        "    X: np.concatenate((blue_points, red_points)),\n",
        "    c:\n",
        "        [[1, 0]] * len(blue_points)\n",
        "        + [[0, 1]] * len(red_points)\n",
        "    \n",
        "}\n",
        "\n",
        "# Create session\n",
        "session = Session()\n",
        "\n",
        "# Perform 100 gradient descent steps\n",
        "for step in range(10000):\n",
        "    J_value = session.run(J, feed_dict)\n",
        "    if step < 1001 : \n",
        "        if step % 100 == 0:\n",
        "            print(\"Step:\", step, \" Loss:\", J_value)\n",
        "    if step > 1000 :\n",
        "        if step % 1000 == 0:\n",
        "            print(\"Step:\", step, \" Loss:\", J_value)\n",
        "    session.run(minimization_op, feed_dict)\n",
        "\n",
        "# Print final result\n",
        "W_hidden_value = session.run(W_hidden)\n",
        "print(\"Hidden layer weight matrix:\\n\", W_hidden_value)\n",
        "b_hidden_value = session.run(b_hidden)\n",
        "print(\"Hidden layer bias:\\n\", b_hidden_value)\n",
        "W_output_value = session.run(W_output)\n",
        "print(\"Output layer weight matrix:\\n\", W_output_value)\n",
        "b_output_value = session.run(b_output)\n",
        "print(\"Output layer bias:\\n\", b_output_value)"
      ],
      "execution_count": 393,
      "outputs": [
        {
          "output_type": "stream",
          "text": [
            "Step: 0  Loss: 99.93573052695547\n",
            "Step: 100  Loss: 69.2407461069767\n",
            "Step: 200  Loss: 68.94724515792163\n",
            "Step: 300  Loss: 58.01089745575481\n",
            "Step: 400  Loss: 22.63481177726691\n",
            "Step: 500  Loss: 12.886433201358125\n",
            "Step: 600  Loss: 19.66611968973363\n",
            "Step: 700  Loss: 12.472787671052041\n",
            "Step: 800  Loss: 12.170702578565844\n",
            "Step: 900  Loss: 12.316658338242288\n",
            "Step: 1000  Loss: 12.769107075294704\n",
            "Step: 2000  Loss: 12.924880340529201\n",
            "Step: 3000  Loss: 12.540649251375672\n",
            "Step: 4000  Loss: 12.098193481284342\n",
            "Step: 5000  Loss: 11.748906397977475\n",
            "Step: 6000  Loss: 11.524545505473176\n",
            "Step: 7000  Loss: 12.338615487803276\n",
            "Step: 8000  Loss: 11.318364907541557\n",
            "Step: 9000  Loss: 11.508936320596902\n",
            "Hidden layer weight matrix:\n",
            " [[ 0.4998401  -7.39491259]\n",
            " [-8.18810246 -0.69315394]]\n",
            "Hidden layer bias:\n",
            " [5.33201263 3.37117859]\n",
            "Output layer weight matrix:\n",
            " [[ 8.13281549 -8.78109671]\n",
            " [ 4.46818781 -5.14524622]]\n",
            "Output layer bias:\n",
            " [-4.53464695  5.09699979]\n"
          ],
          "name": "stdout"
        }
      ]
    },
    {
      "metadata": {
        "id": "kEpaYZ_eC4QC",
        "colab_type": "text"
      },
      "cell_type": "markdown",
      "source": [
        "Let's now visualize the decision boundary:"
      ]
    },
    {
      "metadata": {
        "id": "-Fhl8BJ9C4QD",
        "colab_type": "code",
        "colab": {
          "base_uri": "https://localhost:8080/",
          "height": 269
        },
        "outputId": "c86f1ea2-345b-4fd5-d53d-0e5ef6a1c406"
      },
      "cell_type": "code",
      "source": [
        "# Visualize classification boundary\n",
        "xs = np.linspace(-2, 2)\n",
        "ys = np.linspace(-2, 2)\n",
        "pred_classes = []\n",
        "for x in xs:\n",
        "    for y in ys:\n",
        "        pred_class = session.run(p_output,\n",
        "                              feed_dict={X: [[x, y]]})[0]\n",
        "        pred_classes.append((x, y, pred_class.argmax()))\n",
        "xs_p, ys_p = [], []\n",
        "xs_n, ys_n = [], []\n",
        "for x, y, c in pred_classes:\n",
        "    if c == 0:\n",
        "        xs_n.append(x)\n",
        "        ys_n.append(y)\n",
        "    else:\n",
        "        xs_p.append(x)\n",
        "        ys_p.append(y)\n",
        "plt.scatter(red_points[:,0], red_points[:,1], color='red')\n",
        "plt.scatter(blue_points[:,0], blue_points[:,1], color='blue')\n",
        "plt.plot(xs_p, ys_p, 'r+', xs_n, ys_n, 'b+')\n",
        "plt.show()"
      ],
      "execution_count": 394,
      "outputs": [
        {
          "output_type": "display_data",
          "data": {
            "image/png": "[encoded data removed]",
            "text/plain": [
              "<Figure size 432x288 with 1 Axes>"
            ]
          },
          "metadata": {
            "tags": []
          }
        }
      ]
    },
    {
      "metadata": {
        "id": "T2Nbxj-DC4QF",
        "colab_type": "text"
      },
      "cell_type": "markdown",
      "source": [
        "As we can see, we have learned a rather complex decision boundary. If we use more layers, the decision boundary can become arbitrarily complex, allowing us to learn classification patterns that are impossible to spot by a human being, especially in higher dimensions.\n",
        "\n",
        "# Recap\n",
        "\n",
        "Congratulations on making it this far! You have learned the foundations of building neural networks from scratch, and in contrast to most machine learning practitioners, you now know how it all works under the hood and why it is done the way it is done.\n",
        "\n",
        "Let's recap what we have learned. We started out by considering <b>computational graphs</b> in general, and we saw how to build them and how to compute their output. We then moved on to describe <b>perceptrons</b>, which are linear classifiers that assign a probability to each output class by squashing the output of $w^Tx+b$ through a <b>sigmoid</b> (or <b>softmax</b>, in the case of multiple classes). Following that, we saw how to judge how good a classifier is - via a loss function, the <b>cross-entropy loss</b>, the minimization of which is equivalent to <b>maximum likelihood</b>. In the next step, we saw how to minimize the loss via <b>gradient descent</b>: By iteratively stepping into the direction of the negative gradient. We then introduced <b>backpropagation</b> as a means of computing the derivative of the loss with respect to each node by performing a breadth-first search and multiplying according to the chain rule. We used all that we've learned to train a good linear classifier for the red/blue example dataset. Finally, we learned about <b>multi-layer perceptrons</b> as a means of learning non-linear decision boundaries, implemented an MLP with one hidden layer and successfully trained it on a non-linearly-separable dataset.\n",
        "\n",
        "# Next steps\n",
        "\n",
        "You now know all the fundamentals for training arbitrary neural networks. As a next step, you should learn about the following topics (Google is your friend):\n",
        "- The difference between training loss and test loss\n",
        "- Overfitting and underfitting\n",
        "- Regularization and early stopping\n",
        "- Dropout\n",
        "- Convolutional neural networks\n",
        "- Recurrent neural networks\n",
        "- Autoencoders\n",
        "- Deep Generative Models\n",
        "\n",
        "All of these topics are dealt with in the book \"Deep Learning\" by Ian Goodfellow, Yoshua Bengio and Aaron Courville, which I highly recommend everyone to read. A free online version of the book can be found at http://www.deeplearningbook.org/."
      ]
    },
    {
      "metadata": {
        "id": "Lckt7BfKC4QF",
        "colab_type": "code",
        "colab": {},
        "cellView": "form"
      },
      "cell_type": "code",
      "source": [
        "#@title\n"
      ],
      "execution_count": 0,
      "outputs": []
    }
  ]
}