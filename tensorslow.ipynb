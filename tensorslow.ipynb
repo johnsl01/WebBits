{
  "nbformat": 4,
  "nbformat_minor": 0,
  "metadata": {
    "colab": {
      "name": "empty.ipynb",
      "version": "0.3.2",
      "provenance": []
    },
    "kernelspec": {
      "name": "python3",
      "display_name": "Python 3"
    }
  },
  "cells": [
    {
      "metadata": {
        "id": "1",
        "colab_type": "text"
      },
      "cell_type": "markdown",
      "source": [
        "#Tensorslow.\n",
        "\n",
        "A very basic implementation of the Tensor Flow API usoing just python.\n",
        "\n",
        "See the original at : \n"
      ]
    },
    {
      "metadata": {
        "id": "2",
        "colab_type": "code",
        "colab": {}
      },
      "cell_type": "code",
      "source": [
        "print (\"Empty Notebook\")"
      ],
      "execution_count": 0,
      "outputs": []
    }
  ]
}