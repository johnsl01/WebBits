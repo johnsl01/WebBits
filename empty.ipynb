{
  "nbformat": 4,
  "nbformat_minor": 0,
  "metadata": {
    "colab": {
      "name": "Copy of empty.ipynb",
      "version": "0.3.2",
      "provenance": [],
      "include_colab_link": true
    },
    "kernelspec": {
      "name": "python3",
      "display_name": "Python 3"
    }
  },
  "cells": [
    {
      "cell_type": "markdown",
      "metadata": {
        "id": "view-in-github",
        "colab_type": "text"
      },
      "source": [
        "<a href=\"https://colab.research.google.com/github/johnsl01/WebBits/blob/master/empty.ipynb\" target=\"_parent\"><img src=\"https://colab.research.google.com/assets/colab-badge.svg\" alt=\"Open In Colab\"/></a>"
      ]
    },
    {
      "metadata": {
        "id": "7GM3Uu-e8S3R",
        "colab_type": "text"
      },
      "cell_type": "markdown",
      "source": [
        "Empty Notebook"
      ]
    },
    {
      "metadata": {
        "id": "5h7Q1ops8M1S",
        "colab_type": "code",
        "colab": {}
      },
      "cell_type": "code",
      "source": [
        "print (\"Empty Notebook\")"
      ],
      "execution_count": 0,
      "outputs": []
    }
  ]
}