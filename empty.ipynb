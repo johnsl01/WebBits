{
  "nbformat": 4,
  "nbformat_minor": 0,
  "metadata": {
    "colab": {
      "name": "empty.ipynb",
      "version": "0.3.2",
      "provenance": [],
      "include_colab_link": false
    },
    "kernelspec": {
      "name": "python3",
      "display_name": "Python 3"
    }
  },
  "cells": [
    {
      "cell_type": "markdown",
      "metadata": {
        "id": "view-in-github",
        "colab_type": "text"
      },
      "source": [
        "-"
      ]
    },
    {
      "metadata": {
        "id": "1",
        "colab_type": "text"
      },
      "cell_type": "markdown",
      "source": [
        "Empty Notebook"
      ]
    },
    {
      "metadata": {
        "id": "2",
        "colab_type": "code",
        "colab": {}
      },
      "cell_type": "code",
      "source": [
        "print (\"Empty Notebook\")"
      ],
      "execution_count": 0,
      "outputs": []
    }
  ]
}
